{
 "cells": [
  {
   "cell_type": "markdown",
   "id": "0f680c3a",
   "metadata": {},
   "source": [
    "## 1. 머신러닝의 개념\n",
    "\n",
    "`머신러닝 (Machine Learning)`이란 애플리케이션을 수정하지 않고도 데이터를 기반으로 패턴을 학습하고 결과를 예측하는 알고리즘 기법을 통칭합니다.\n",
    "머신러닝 알고리즘은 자연어 처리, 데이터 마이닝, 영상 및 음성 인식 등의 다양한 분야에서 데이터를 기반으로 숨겨진 패턴을 인지해 주어진 문제를 해결합니다.\n",
    "\n",
    "머신러닝은 크게 지도학습, 비지도학습, 강화학습으로 구분합니다.\n",
    "\n",
    "`지도 학습(Supervised Learning)`이란 정답 라벨이 있는 데이터를 학습시키는 것으로, 입력 값(X) 와 그 입력 값에 대응하는 정답 (Y) 를 주어 학습시켜 새로운 입력 값에 대응하는 정답을 찾는 것을 목표로 합니다. 대표적인 예로 분류, 회귀, 추천 시스템, NLP 등이 있습니다.\n",
    "\n",
    "`비지도 학습(Un-supervised Learning)`이란 정답 라벨이 없는 데이터를 학습시키는 것으로, 비슷한 특징끼리 군집화하여 새로운 데이터에 대한 결과를 예측하는 것을 목표로 합니다. 대표적인 예로 클러스터링, 차원 축소 등이 있습니다.\n",
    "\n",
    "`강화 학습(Reinforcement Learning)`이란 앞선 두 학습 방법과 달리, 에이전트가 행동을 취하고 그 행동에 대한 보상을 받으며 최대한 큰 보상을 받기 위한 행동을 스스로 학습하는 방식을 말합니다.\n",
    "\n",
    "머신러닝에서 알고리즘만큼이나 중요한 요소가 `데이터` 입니다. 머신러닝의 가장 큰 단점은 데이터에 매우 의존적이라는 것이기 때문에, 올바른 학습 결과를 얻기 위해서는 최적의 머신러닝 알고리즘과 모델 파라미터를 구축하는 능력만큼 데이터를 올바르고 효율적으로 가공, 처리, 추출하는 능력 역시 매우 중요합니다."
   ]
  },
  {
   "cell_type": "markdown",
   "id": "d5d22848",
   "metadata": {},
   "source": [
    "## 2. 파이썬 머신러닝 생태계를 구성하는 주요 패키지\n",
    "\n",
    "머신러닝 프로그램을 작성하는데 가장 많이 사용되는 프로그램 언어는 파이썬과 R입니다. 이 책은 그중 파이썬을 이용한 머신러닝을 다루고 있으며, 저 또한 파이썬이 더 익숙하기 때문에 이 책을 골랐습니다. 이 책에서는 `scikit-learn` (머신러닝), `numpy` & `scipy` (선형대수/통계), `pandas` (데이터 핸들링), `matplotlib` & `seaborn` (시각화) 등을 사용하여 머신 러닝 프로그램을 작성하는 법을 익힙니다.\n",
    "\n",
    "저는 `Windows 10` 에서 `Anaconda` 를 통해 실습 환경을 구성하여 `python 3.8.12` 버전에서 `jupyter notebook`을 이용해 실습을 진행하였습니다."
   ]
  },
  {
   "cell_type": "markdown",
   "id": "fcfdc287",
   "metadata": {},
   "source": [
    "\n",
    "## 3. 넘파이(Numpy)\n",
    "\n",
    "머신러닝의 주요 알고리즘은 선형대수와 통계에 기반합니다. `Numpy` 패키지를 통해 파이썬에서 선형대수 연산을 쉽게 수행할 수 있기 때문에 대부분의 머신러닝 알고리즘이 넘파이 기반으로 작성되어 있고 입력과 출력 데이터를 넘파이 배열 타입으로 사용합니다. 넘파이를 이해하는 것은 파이썬 기반의 머신러닝에서 매우 중요합니다.\n",
    "\n",
    "### 3.1 넘파이 ndarray 개요\n",
    "\n",
    "Numpy 패키지를 사용하기 위해서 다음과 같이 Numpy를 임포트합니다."
   ]
  },
  {
   "cell_type": "code",
   "execution_count": 1,
   "id": "424ee974",
   "metadata": {},
   "outputs": [],
   "source": [
    "import numpy as np"
   ]
  },
  {
   "cell_type": "markdown",
   "id": "9d2ffea2",
   "metadata": {},
   "source": [
    "Numpy 의 `array()` 함수를 통해 파이썬의 리스트로 인자를 입력을 받아 `ndarray` 형태의 변환할 수 있습니다. `ndarray` 배열의 `shape` 변수를 이용해 행과 열의 수를 튜플 형태로 받고 배열의 차원을 알 수 있습니다."
   ]
  },
  {
   "cell_type": "code",
   "execution_count": 4,
   "id": "e9e558dc",
   "metadata": {},
   "outputs": [
    {
     "name": "stdout",
     "output_type": "stream",
     "text": [
      "array1 type: <class 'numpy.ndarray'>\n",
      "array1 array 형태: (3,)\n",
      "array2 type: <class 'numpy.ndarray'>\n",
      "array2 array 형태: (2, 3)\n",
      "array3 type: <class 'numpy.ndarray'>\n",
      "array3 array 형태: (1, 3)\n",
      "array1: 1차원, array2: 2차원, array3:  2차원\n"
     ]
    }
   ],
   "source": [
    "array1=np.array([1,2,3])\n",
    "print('array1 type:', type(array1))\n",
    "print('array1 array 형태:', array1.shape)\n",
    "\n",
    "array2=np.array([[1,2,3],[4,5,6]])\n",
    "print('array2 type:', type(array2))\n",
    "print('array2 array 형태:', array2.shape)\n",
    "\n",
    "array3=np.array([[1,2,3]])\n",
    "print('array3 type:', type(array3))\n",
    "print('array3 array 형태:', array3.shape)\n",
    "\n",
    "print('array1: {:0}차원, array2: {:1}차원, array3: {:2}차원'.format(array1.ndim, array2.ndim, array3.ndim))"
   ]
  },
  {
   "cell_type": "markdown",
   "id": "d19f543a",
   "metadata": {},
   "source": [
    "간단한 예제입니다. 주의하여야 할 점은 array1과 array3은 서로 다르다는 것입니다. array1은 3개의 원소로 이루어진 1차원의 array이며, array3은 1개의 행과 3개의 열로 이루어진 2차원 array입니다."
   ]
  },
  {
   "cell_type": "markdown",
   "id": "7257362d",
   "metadata": {},
   "source": [
    "### 3.2 ndarray의 데이터 타입\n",
    "\n",
    "서로 다른 데이터 타입을 저장할 수 있는 `list`와는 달리, `ndarray`에서는 모든 원소가 같은 자료형을 가져야 합니다. 따라서 여러 자료형이 섞여있는 리스트를 `ndarray`로 변환할 경우 더 큰 자료형으로 변환됩니다. 따로 변환을 원하는 자료형이 있을 경우에는 `astype()` 매서드를 이용하여 변경이 가능합니다.\n",
    "`ndarray` 내 원소들의 데이터 타입은 `dtype`을 사용하여 확인할 수 있습니다."
   ]
  },
  {
   "cell_type": "code",
   "execution_count": 6,
   "id": "b0833d4d",
   "metadata": {},
   "outputs": [
    {
     "name": "stdout",
     "output_type": "stream",
     "text": [
      "[1 2 3] int32\n",
      "['1' '2' 'test'] <U11\n",
      "[1 3 4] int32\n"
     ]
    }
   ],
   "source": [
    "list1=[1,2,3]\n",
    "array1 = np.array(list1)\n",
    "print(array1, array1.dtype)\n",
    "\n",
    "list2=[1,2,'test']\n",
    "array2 = np.array(list2)\n",
    "print(array2, array2.dtype)\n",
    "\n",
    "list3=[1.1, 3.5, 4.7]\n",
    "array3 = np.array(list3).astype('int32')\n",
    "print(array3, array3.dtype)"
   ]
  },
  {
   "cell_type": "markdown",
   "id": "ca036f89",
   "metadata": {},
   "source": [
    "첫 번째 리스트의 경우 모든 원소가 `int32` 자료형이기 때문에 `ndarray`형으로 변환시켰을 때 `int32` 자료형 원소들을 가진 행렬이 자동으로 생성됩니다. 한편 두 번째 리스트의 경우 원소에 정수와 문자열이 섞여 있기 때문에 `<U11` 형의 문자열로 모든 원소가 변환되어 저장이 됩니다. 세 번째 리스트의 경우 모든 원소가 실수형이지만, `astype(int32)` 매서드를 사용하였기 때문에 모든 원소가 `int32` 형으로 소숫점 아래를 버린 `ndarray` 가 생성됩니다."
   ]
  },
  {
   "cell_type": "markdown",
   "id": "4ca046b1",
   "metadata": {},
   "source": [
    "### 3.3 ndarray를 편리하게 생성하기 - arange, zeros, ones\n",
    "\n",
    "`arange()`, `zeros()` , `ones()` 매서드를 사용하면 쉽게 ndarray를 생성하고 초기화할 수 있습니다."
   ]
  },
  {
   "cell_type": "code",
   "execution_count": 8,
   "id": "7e9d2128",
   "metadata": {},
   "outputs": [
    {
     "name": "stdout",
     "output_type": "stream",
     "text": [
      "[ 1  3  5  7  9 11 13]\n",
      "int32 (7,)\n",
      "[[0. 0.]\n",
      " [0. 0.]\n",
      " [0. 0.]]\n",
      "float64 (3, 2)\n",
      "[[1 1 1]\n",
      " [1 1 1]]\n",
      "int32 (2, 3)\n"
     ]
    }
   ],
   "source": [
    "array = np. arange(1, 15, 2)\n",
    "print(array)\n",
    "print(array.dtype, array.shape)\n",
    "\n",
    "\n",
    "zero_array = np.zeros((3,2))\n",
    "print(zero_array)\n",
    "print(zero_array.dtype, zero_array.shape)\n",
    "\n",
    "one_array = np.ones((2,3), dtype='int32')\n",
    "print(one_array)\n",
    "print(one_array.dtype, one_array.shape)"
   ]
  },
  {
   "cell_type": "markdown",
   "id": "d4c45a64",
   "metadata": {},
   "source": [
    "\n",
    "`array`에는 1에서 시작하여 2 씩 증가하며, 15 미만의 값까지를 저장한 `ndarray`가 저장됩니다.`zero_array` 와 `one_array`에는 지정한 크기와 자료형에 맞게 각각 0과 1로 채워진 `ndarray`가 저장됩니다."
   ]
  },
  {
   "cell_type": "markdown",
   "id": "2f555877",
   "metadata": {},
   "source": [
    "### 3.4 ndarray의 차원과 크기를 변경하는 reshape()\n",
    "\n",
    "`reshape()` 매서드는 `ndarray`를 원하는 차원과 크기로 변환할 수 있습니다. 이때 바꾸고자 하는 사이즈로 변경이 불가능할 경우 (처음 `ndarray`과 나중 `ndarray`의 원소 수가 다른 경우)에는 에러가 발생합니다. 함수 인자로 -1 을 사용하는 경우에는 원래 `ndarray`와 호환되는 새로운 차원과 크기로 자동으로 변환시켜 줍니다."
   ]
  },
  {
   "cell_type": "code",
   "execution_count": 10,
   "id": "a7165a43",
   "metadata": {},
   "outputs": [
    {
     "name": "stdout",
     "output_type": "stream",
     "text": [
      "array1:\n",
      " [0 1 2 3 4 5 6 7]\n",
      "array2:\n",
      " [[[0 1]\n",
      "  [2 3]]\n",
      "\n",
      " [[4 5]\n",
      "  [6 7]]]\n",
      "array3:\n",
      " [[0 1]\n",
      " [2 3]\n",
      " [4 5]\n",
      " [6 7]]\n"
     ]
    }
   ],
   "source": [
    "array1=np.arange(8)\n",
    "print('array1:\\n', array1)\n",
    "\n",
    "array2=array1.reshape(2,2,2)\n",
    "print('array2:\\n', array2)\n",
    "\n",
    "array3=array1.reshape(4,-1)\n",
    "print('array3:\\n', array3)"
   ]
  },
  {
   "cell_type": "markdown",
   "id": "bc431729",
   "metadata": {},
   "source": [
    "`array2` 는 원소가 8개인 `array1` 을 2x2x2의 형태로 변환하여 저장합니다. `array3`은 `array1`을 4개의 행을 갖도록, 4x2의 형태로 자동으로 변환하여 저장합니다."
   ]
  },
  {
   "cell_type": "markdown",
   "id": "179ddba8",
   "metadata": {},
   "source": [
    "### 3.5 넘파이의 ndarray의 데이터 세트 선택하기- 인덱싱(Indexing)\n",
    "\n",
    "#### 3.5.1 단일 값 추출\n",
    "일반적인 파이썬에서의 `list`와 같은 방법으로, `ndarray`에서 구하고자하는 위치의 인덱스 값을 [] 안에 넣어 단일 값을 찾거나, 수정할 수 있습니다."
   ]
  },
  {
   "cell_type": "code",
   "execution_count": 13,
   "id": "912c6aaf",
   "metadata": {},
   "outputs": [
    {
     "name": "stdout",
     "output_type": "stream",
     "text": [
      "row=1, col=2 가 가리키는 값: 6\n",
      "row=1, col=2 가 가리키는 값: 5\n"
     ]
    }
   ],
   "source": [
    "array= np.arange(1, 10).reshape(3,3)\n",
    "\n",
    "print('row=1, col=2 가 가리키는 값:',  array[1][2])\n",
    "array[1][2] = 5;\n",
    "print('row=1, col=2 가 가리키는 값:',  array[1][2])"
   ]
  },
  {
   "cell_type": "markdown",
   "id": "dbcce3ab",
   "metadata": {},
   "source": [
    "간단한 예제로 설명은 생략하겠습니다.\n",
    "\n",
    "#### 3.5.1 슬라이싱\n",
    "\n",
    "`:` 기호를 이용해 연속한 데이터를 슬라이싱하여 추출할 수 있습니다. `:` 기호를 사이에 두고 시작 인덱스와 종료 인덱스를 표시하면 시작 ~ 종료-1 인덱스의 위치에 있는 데이터의 `ndarray`를 반환합니다. 시작/끝 인자가 생략되면 자동으로 맨 처음/맨 끝 인덱스로 간주됩니다. 다차워 슬라이싱을 위해서는 `,` 로 각 차원의 인덱스 범위를 구분해 주면 됩니다."
   ]
  },
  {
   "cell_type": "code",
   "execution_count": 20,
   "id": "1351305e",
   "metadata": {},
   "outputs": [
    {
     "name": "stdout",
     "output_type": "stream",
     "text": [
      "array[3:7]\n",
      " [4 5 6 7]\n",
      "array2[0:2,0:2]\n",
      " [[1 2]\n",
      " [4 5]]\n",
      "array2[1:,1:2]\n",
      " [[5]\n",
      " [8]]\n",
      "array2[:2,0]\n",
      " [1 4]\n"
     ]
    }
   ],
   "source": [
    "array= np.arange(1, 10)\n",
    "print('array[3:7]\\n',  array[3:7])\n",
    "\n",
    "array2= np.arange(1, 10).reshape(3,3)\n",
    "print('array2[0:2,0:2]\\n',  array2[0:2,0:2])\n",
    "print('array2[1:,1:2]\\n',  array2[1:,1:2])\n",
    "print('array2[:2,0]\\n',  array2[:2,0])\n"
   ]
  },
  {
   "cell_type": "markdown",
   "id": "17884231",
   "metadata": {},
   "source": [
    "간단한 예제로 설명은 생략하겠습니다.\n",
    "\n",
    "#### 3.5.3 팬시 인덱싱\n",
    "\n",
    "팬시 인덱싱 (Fancy Indexing) 은 `list` 나 `nparray` 로 인덱스 집합을 지정하면 해당 위치의 인덱스에 해당하는 `ndarray`를 반환하는 인덱싱 방식입니다."
   ]
  },
  {
   "cell_type": "code",
   "execution_count": 33,
   "id": "3f3b574a",
   "metadata": {},
   "outputs": [
    {
     "name": "stdout",
     "output_type": "stream",
     "text": [
      "array[[0,2],2]\n",
      " [3 9]\n"
     ]
    }
   ],
   "source": [
    "array= np.arange(1, 10).reshape(3,3)\n",
    "\n",
    "print('array[[0,2],2]\\n', array[[0,2],2])"
   ]
  },
  {
   "cell_type": "markdown",
   "id": "ee513653",
   "metadata": {},
   "source": [
    "`array[[0,2],2]` 는 `array`의 0행과 2행의 2번쨰 열만 인덱싱하여 새로운 `ndarray` [3 9] 를 리턴합니다.\n",
    "\n",
    "#### 3.5.4 불린 인덱싱\n",
    "\n",
    "불린 인덱싱 (Boolean Indexing) 은 조건 필터링과 검색을 동시에 할 수 있기 때문에 매우 자주 사용되는 인덱싱 방식입니다."
   ]
  },
  {
   "cell_type": "code",
   "execution_count": 34,
   "id": "4da3eb59",
   "metadata": {},
   "outputs": [
    {
     "name": "stdout",
     "output_type": "stream",
     "text": [
      "array[array>5]\n",
      " [6 7 8 9]\n"
     ]
    }
   ],
   "source": [
    "array= np.arange(1, 10).reshape(3,3)\n",
    "\n",
    "print('array[array>5]\\n', array[array>5])"
   ]
  },
  {
   "cell_type": "markdown",
   "id": "56f016ff",
   "metadata": {},
   "source": [
    "`ndarray` 의 인덱스로 조건을 넣어주면 그 조건을 만족하는 값들만 필터링하요 새로운 `ndarray` 를 리턴합니다.\n",
    "\n",
    "### 3.6 행렬의 정렬 - sort()와 argsort()\n",
    "\n",
    "#### 3.6.1 행렬 정렬\n",
    "행렬을 정렬하기 위해서는 `sort()` 매서드를 사용하면 됩니다. 기본적으로 오름차순 정렬을 수행하며, `sort()[::-1]` 을 이용하면 내림차순 정렬을 수행합니다.\n",
    "\n",
    "`sort()`를 호출하는 방법에는 `np.sort()` 와 `ndarray.sort()`가 있습니다. `np.sort()`는 원 행렬을 유지한 채 정렬된 행렬을 새롭게 생성하여 리턴하는 반면, `ndarray.sort()` 는 원 행렬 자체를 정렬된 상태로 변환합니다."
   ]
  },
  {
   "cell_type": "code",
   "execution_count": 37,
   "id": "031afab0",
   "metadata": {},
   "outputs": [
    {
     "name": "stdout",
     "output_type": "stream",
     "text": [
      "원본 행렬: [3 1 9 5]\n",
      "np.sort 호출 후 반환된 정렬 행렬: [9 5 3 1]\n",
      "np.sort 호출 후 원본 행렬: [3 1 9 5]\n",
      "ndarray.sort 호출 후 원본 행렬: [1 3 5 9]\n"
     ]
    }
   ],
   "source": [
    "org_array = np.array([3, 1, 9, 5])\n",
    "print('원본 행렬:', org_array)\n",
    "\n",
    "print('np.sort 호출 후 반환된 정렬 행렬:', np.sort(org_array)[::-1])\n",
    "print('np.sort 호출 후 원본 행렬:', org_array)\n",
    "\n",
    "org_array.sort()\n",
    "print('ndarray.sort 호출 후 원본 행렬:', org_array)"
   ]
  },
  {
   "cell_type": "markdown",
   "id": "da60ca9c",
   "metadata": {},
   "source": [
    "\n",
    "간단한 예제로 설명은 생략하겠습니다.\n",
    "\n",
    "행렬이 2차원 이상인 경우 `axis` 값을 함수인자로 제공하여 축 방향의 정렬을 수행할 수 있습니다."
   ]
  },
  {
   "cell_type": "code",
   "execution_count": 46,
   "id": "834ee1c2",
   "metadata": {},
   "outputs": [
    {
     "name": "stdout",
     "output_type": "stream",
     "text": [
      "원본 행렬:\n",
      " [[9 8 7]\n",
      " [6 5 4]\n",
      " [3 2 1]]\n",
      "열 방향 정렬:\n",
      " [[3 2 1]\n",
      " [6 5 4]\n",
      " [9 8 7]]\n",
      "행 방향 정렬:\n",
      " [[7 8 9]\n",
      " [4 5 6]\n",
      " [1 2 3]]\n"
     ]
    }
   ],
   "source": [
    "org_array = np.arange(9,0,-1).reshape(3,3)\n",
    "print('원본 행렬:\\n', org_array)\n",
    "\n",
    "print('열 방향 정렬:\\n', np.sort(org_array, axis=0))\n",
    "print('행 방향 정렬:\\n', np.sort(org_array, axis=1))"
   ]
  },
  {
   "cell_type": "markdown",
   "id": "c7252ae8",
   "metadata": {},
   "source": [
    "\n",
    "간단한 예제로 설명은 생략하겠습니다.\n",
    "\n",
    "#### 3.6.1 정렬된 행렬의 인덱스 반환하기\n",
    "\n",
    "원본 행렬이 정렬되었을 때 기존 원본 행렬의 원본에 대한 인덱스를 필요로 할 때 np.argsort()를 이용합니다."
   ]
  },
  {
   "cell_type": "code",
   "execution_count": 48,
   "id": "2fc0652d",
   "metadata": {},
   "outputs": [
    {
     "name": "stdout",
     "output_type": "stream",
     "text": [
      "성적 오름차순 정렬: [78 84 88 95 98]\n",
      "성적 오름차순 정렬 시 score_array의 인덱스: [0 2 4 1 3]\n",
      "성적 오름차순으로 name_array의 이름 출력: ['John' 'Sarah' 'Samuel' 'Mike' 'Kate']\n"
     ]
    }
   ],
   "source": [
    "name_array = np.array(['John', 'Mike', 'Sarah', 'Kate', 'Samuel'])\n",
    "score_array= np.array([78, 95, 84, 98, 88])\n",
    "print('성적 오름차순 정렬:',np.sort(score_array))\n",
    "\n",
    "sort_indices_asc = np.argsort(score_array)\n",
    "print('성적 오름차순 정렬 시 score_array의 인덱스:', sort_indices_asc)\n",
    "print('성적 오름차순으로 name_array의 이름 출력:', name_array[sort_indices_asc])"
   ]
  },
  {
   "cell_type": "markdown",
   "id": "ee0d2626",
   "metadata": {},
   "source": [
    "\n",
    "다음과 같은 예시에서, 학생들의 점수를 오름차순으로 정렬하고 각 점수에 대응되는 학생을 찾기 위해 점수에 대한 원본 행렬에서의 인덱스가 필요하므로 `argsort()`를 이용하여 해당 과정을 수행해 줄 수 있습니다.\n",
    "\n",
    "### 3.7 선형대수 연산 - 행렬 내적과 전치 행렬 구하기\n",
    "\n",
    "#### 3.7.1 행렬 내적 (행렬 곱)\n",
    "\n",
    "행렬의 내적은 np.dot()을 이용하여 수행합니다."
   ]
  },
  {
   "cell_type": "code",
   "execution_count": 49,
   "id": "56cd7929",
   "metadata": {},
   "outputs": [
    {
     "name": "stdout",
     "output_type": "stream",
     "text": [
      "행렬 내적 결과 \n",
      " [[ 58  64]\n",
      " [139 154]]\n"
     ]
    }
   ],
   "source": [
    "A = np.array([[1,2,3],[4,5,6]])\n",
    "B = np.array([[7,8],[9,10],[11,12]])\n",
    "\n",
    "dot_product = np.dot(A,B)\n",
    "print('행렬 내적 결과 \\n', dot_product)"
   ]
  },
  {
   "cell_type": "markdown",
   "id": "3db13eed",
   "metadata": {},
   "source": [
    "#### 3.7.2 전치 행렬\n",
    "\n",
    "전치 행렬은 np.transpose()를 이용하여 구할 수 있습니다."
   ]
  },
  {
   "cell_type": "code",
   "execution_count": 50,
   "id": "dd4e2ce9",
   "metadata": {},
   "outputs": [
    {
     "name": "stdout",
     "output_type": "stream",
     "text": [
      "전치 행렬 \n",
      " [[1 3]\n",
      " [2 4]]\n"
     ]
    }
   ],
   "source": [
    "A=np.array([[1,2],[3,4]])\n",
    "transpose_mat= np.transpose(A)\n",
    "print('전치 행렬 \\n',transpose_mat)"
   ]
  },
  {
   "cell_type": "markdown",
   "id": "e401447e",
   "metadata": {},
   "source": []
  },
  {
   "cell_type": "code",
   "execution_count": 1,
   "id": "df92c21e",
   "metadata": {},
   "outputs": [],
   "source": [
    "import pandas as pd"
   ]
  },
  {
   "cell_type": "code",
   "execution_count": 3,
   "id": "b4d9c4ac",
   "metadata": {},
   "outputs": [
    {
     "name": "stdout",
     "output_type": "stream",
     "text": [
      "titanic 변수 type: <class 'pandas.core.frame.DataFrame'>\n"
     ]
    },
    {
     "data": {
      "text/html": [
       "<div>\n",
       "<style scoped>\n",
       "    .dataframe tbody tr th:only-of-type {\n",
       "        vertical-align: middle;\n",
       "    }\n",
       "\n",
       "    .dataframe tbody tr th {\n",
       "        vertical-align: top;\n",
       "    }\n",
       "\n",
       "    .dataframe thead th {\n",
       "        text-align: right;\n",
       "    }\n",
       "</style>\n",
       "<table border=\"1\" class=\"dataframe\">\n",
       "  <thead>\n",
       "    <tr style=\"text-align: right;\">\n",
       "      <th></th>\n",
       "      <th>PassengerId</th>\n",
       "      <th>Survived</th>\n",
       "      <th>Pclass</th>\n",
       "      <th>Name</th>\n",
       "      <th>Sex</th>\n",
       "      <th>Age</th>\n",
       "      <th>SibSp</th>\n",
       "      <th>Parch</th>\n",
       "      <th>Ticket</th>\n",
       "      <th>Fare</th>\n",
       "      <th>Cabin</th>\n",
       "      <th>Embarked</th>\n",
       "    </tr>\n",
       "  </thead>\n",
       "  <tbody>\n",
       "    <tr>\n",
       "      <th>0</th>\n",
       "      <td>1</td>\n",
       "      <td>0</td>\n",
       "      <td>3</td>\n",
       "      <td>Braund, Mr. Owen Harris</td>\n",
       "      <td>male</td>\n",
       "      <td>22.0</td>\n",
       "      <td>1</td>\n",
       "      <td>0</td>\n",
       "      <td>A/5 21171</td>\n",
       "      <td>7.2500</td>\n",
       "      <td>NaN</td>\n",
       "      <td>S</td>\n",
       "    </tr>\n",
       "    <tr>\n",
       "      <th>1</th>\n",
       "      <td>2</td>\n",
       "      <td>1</td>\n",
       "      <td>1</td>\n",
       "      <td>Cumings, Mrs. John Bradley (Florence Briggs Th...</td>\n",
       "      <td>female</td>\n",
       "      <td>38.0</td>\n",
       "      <td>1</td>\n",
       "      <td>0</td>\n",
       "      <td>PC 17599</td>\n",
       "      <td>71.2833</td>\n",
       "      <td>C85</td>\n",
       "      <td>C</td>\n",
       "    </tr>\n",
       "    <tr>\n",
       "      <th>2</th>\n",
       "      <td>3</td>\n",
       "      <td>1</td>\n",
       "      <td>3</td>\n",
       "      <td>Heikkinen, Miss. Laina</td>\n",
       "      <td>female</td>\n",
       "      <td>26.0</td>\n",
       "      <td>0</td>\n",
       "      <td>0</td>\n",
       "      <td>STON/O2. 3101282</td>\n",
       "      <td>7.9250</td>\n",
       "      <td>NaN</td>\n",
       "      <td>S</td>\n",
       "    </tr>\n",
       "  </tbody>\n",
       "</table>\n",
       "</div>"
      ],
      "text/plain": [
       "   PassengerId  Survived  Pclass  \\\n",
       "0            1         0       3   \n",
       "1            2         1       1   \n",
       "2            3         1       3   \n",
       "\n",
       "                                                Name     Sex   Age  SibSp  \\\n",
       "0                            Braund, Mr. Owen Harris    male  22.0      1   \n",
       "1  Cumings, Mrs. John Bradley (Florence Briggs Th...  female  38.0      1   \n",
       "2                             Heikkinen, Miss. Laina  female  26.0      0   \n",
       "\n",
       "   Parch            Ticket     Fare Cabin Embarked  \n",
       "0      0         A/5 21171   7.2500   NaN        S  \n",
       "1      0          PC 17599  71.2833   C85        C  \n",
       "2      0  STON/O2. 3101282   7.9250   NaN        S  "
      ]
     },
     "execution_count": 3,
     "metadata": {},
     "output_type": "execute_result"
    }
   ],
   "source": [
    "titanic_df = pd.read_csv('titanic_train.csv')\n",
    "print('titanic 변수 type:', type(titanic_df))\n",
    "titanic_df.head(3)"
   ]
  },
  {
   "cell_type": "code",
   "execution_count": 4,
   "id": "853ef0e2",
   "metadata": {},
   "outputs": [
    {
     "name": "stdout",
     "output_type": "stream",
     "text": [
      "DataFrame 크기: (891, 12)\n",
      "<class 'pandas.core.frame.DataFrame'>\n",
      "RangeIndex: 891 entries, 0 to 890\n",
      "Data columns (total 12 columns):\n",
      " #   Column       Non-Null Count  Dtype  \n",
      "---  ------       --------------  -----  \n",
      " 0   PassengerId  891 non-null    int64  \n",
      " 1   Survived     891 non-null    int64  \n",
      " 2   Pclass       891 non-null    int64  \n",
      " 3   Name         891 non-null    object \n",
      " 4   Sex          891 non-null    object \n",
      " 5   Age          714 non-null    float64\n",
      " 6   SibSp        891 non-null    int64  \n",
      " 7   Parch        891 non-null    int64  \n",
      " 8   Ticket       891 non-null    object \n",
      " 9   Fare         891 non-null    float64\n",
      " 10  Cabin        204 non-null    object \n",
      " 11  Embarked     889 non-null    object \n",
      "dtypes: float64(2), int64(5), object(5)\n",
      "memory usage: 83.7+ KB\n"
     ]
    }
   ],
   "source": [
    "print('DataFrame 크기:', titanic_df.shape)\n",
    "titanic_df.info()"
   ]
  },
  {
   "cell_type": "code",
   "execution_count": 5,
   "id": "36bf4ccb",
   "metadata": {},
   "outputs": [
    {
     "data": {
      "text/html": [
       "<div>\n",
       "<style scoped>\n",
       "    .dataframe tbody tr th:only-of-type {\n",
       "        vertical-align: middle;\n",
       "    }\n",
       "\n",
       "    .dataframe tbody tr th {\n",
       "        vertical-align: top;\n",
       "    }\n",
       "\n",
       "    .dataframe thead th {\n",
       "        text-align: right;\n",
       "    }\n",
       "</style>\n",
       "<table border=\"1\" class=\"dataframe\">\n",
       "  <thead>\n",
       "    <tr style=\"text-align: right;\">\n",
       "      <th></th>\n",
       "      <th>PassengerId</th>\n",
       "      <th>Survived</th>\n",
       "      <th>Pclass</th>\n",
       "      <th>Age</th>\n",
       "      <th>SibSp</th>\n",
       "      <th>Parch</th>\n",
       "      <th>Fare</th>\n",
       "    </tr>\n",
       "  </thead>\n",
       "  <tbody>\n",
       "    <tr>\n",
       "      <th>count</th>\n",
       "      <td>891.000000</td>\n",
       "      <td>891.000000</td>\n",
       "      <td>891.000000</td>\n",
       "      <td>714.000000</td>\n",
       "      <td>891.000000</td>\n",
       "      <td>891.000000</td>\n",
       "      <td>891.000000</td>\n",
       "    </tr>\n",
       "    <tr>\n",
       "      <th>mean</th>\n",
       "      <td>446.000000</td>\n",
       "      <td>0.383838</td>\n",
       "      <td>2.308642</td>\n",
       "      <td>29.699118</td>\n",
       "      <td>0.523008</td>\n",
       "      <td>0.381594</td>\n",
       "      <td>32.204208</td>\n",
       "    </tr>\n",
       "    <tr>\n",
       "      <th>std</th>\n",
       "      <td>257.353842</td>\n",
       "      <td>0.486592</td>\n",
       "      <td>0.836071</td>\n",
       "      <td>14.526497</td>\n",
       "      <td>1.102743</td>\n",
       "      <td>0.806057</td>\n",
       "      <td>49.693429</td>\n",
       "    </tr>\n",
       "    <tr>\n",
       "      <th>min</th>\n",
       "      <td>1.000000</td>\n",
       "      <td>0.000000</td>\n",
       "      <td>1.000000</td>\n",
       "      <td>0.420000</td>\n",
       "      <td>0.000000</td>\n",
       "      <td>0.000000</td>\n",
       "      <td>0.000000</td>\n",
       "    </tr>\n",
       "    <tr>\n",
       "      <th>25%</th>\n",
       "      <td>223.500000</td>\n",
       "      <td>0.000000</td>\n",
       "      <td>2.000000</td>\n",
       "      <td>20.125000</td>\n",
       "      <td>0.000000</td>\n",
       "      <td>0.000000</td>\n",
       "      <td>7.910400</td>\n",
       "    </tr>\n",
       "    <tr>\n",
       "      <th>50%</th>\n",
       "      <td>446.000000</td>\n",
       "      <td>0.000000</td>\n",
       "      <td>3.000000</td>\n",
       "      <td>28.000000</td>\n",
       "      <td>0.000000</td>\n",
       "      <td>0.000000</td>\n",
       "      <td>14.454200</td>\n",
       "    </tr>\n",
       "    <tr>\n",
       "      <th>75%</th>\n",
       "      <td>668.500000</td>\n",
       "      <td>1.000000</td>\n",
       "      <td>3.000000</td>\n",
       "      <td>38.000000</td>\n",
       "      <td>1.000000</td>\n",
       "      <td>0.000000</td>\n",
       "      <td>31.000000</td>\n",
       "    </tr>\n",
       "    <tr>\n",
       "      <th>max</th>\n",
       "      <td>891.000000</td>\n",
       "      <td>1.000000</td>\n",
       "      <td>3.000000</td>\n",
       "      <td>80.000000</td>\n",
       "      <td>8.000000</td>\n",
       "      <td>6.000000</td>\n",
       "      <td>512.329200</td>\n",
       "    </tr>\n",
       "  </tbody>\n",
       "</table>\n",
       "</div>"
      ],
      "text/plain": [
       "       PassengerId    Survived      Pclass         Age       SibSp  \\\n",
       "count   891.000000  891.000000  891.000000  714.000000  891.000000   \n",
       "mean    446.000000    0.383838    2.308642   29.699118    0.523008   \n",
       "std     257.353842    0.486592    0.836071   14.526497    1.102743   \n",
       "min       1.000000    0.000000    1.000000    0.420000    0.000000   \n",
       "25%     223.500000    0.000000    2.000000   20.125000    0.000000   \n",
       "50%     446.000000    0.000000    3.000000   28.000000    0.000000   \n",
       "75%     668.500000    1.000000    3.000000   38.000000    1.000000   \n",
       "max     891.000000    1.000000    3.000000   80.000000    8.000000   \n",
       "\n",
       "            Parch        Fare  \n",
       "count  891.000000  891.000000  \n",
       "mean     0.381594   32.204208  \n",
       "std      0.806057   49.693429  \n",
       "min      0.000000    0.000000  \n",
       "25%      0.000000    7.910400  \n",
       "50%      0.000000   14.454200  \n",
       "75%      0.000000   31.000000  \n",
       "max      6.000000  512.329200  "
      ]
     },
     "execution_count": 5,
     "metadata": {},
     "output_type": "execute_result"
    }
   ],
   "source": [
    "titanic_df.describe()"
   ]
  },
  {
   "cell_type": "code",
   "execution_count": 6,
   "id": "14e97ad5",
   "metadata": {},
   "outputs": [
    {
     "name": "stdout",
     "output_type": "stream",
     "text": [
      "3    491\n",
      "1    216\n",
      "2    184\n",
      "Name: Pclass, dtype: int64\n"
     ]
    }
   ],
   "source": [
    "value_counts = titanic_df['Pclass'].value_counts()\n",
    "print(value_counts)"
   ]
  },
  {
   "cell_type": "markdown",
   "id": "f097f6d1",
   "metadata": {},
   "source": [
    "## 4. 판다스 (Pandas)\n",
    "\n",
    "판다스는 파이썬의 데이터 핸들링 라이브러리입니다. 데이터를 2차원의 `DataFrame` 객체로 변환하여 각종 데이터 핸들링을 수행할 수 있습니다.\n",
    "\n",
    "### 4.1 판다스 시작 - 파일을 DataFrame으로 로딩, 기본 API\n",
    "\n",
    "`Pandas` 패키지를 사용하기 위해서 다음과 같이 `Pandas`를 임포트합니다.\n",
    "\n"
   ]
  },
  {
   "cell_type": "code",
   "execution_count": 15,
   "id": "99c880cd",
   "metadata": {},
   "outputs": [],
   "source": [
    "import pandas as pd"
   ]
  },
  {
   "cell_type": "markdown",
   "id": "1c91e4c8",
   "metadata": {},
   "source": [
    "판다스 사용법을 익히기 위해 데이터로 캐글의 타이타닉 탑승자 데이터 파일을 사용할 것입니다. 데이터는 [링크](https://www.kaggle.com/c/titanic/data)를 통해 다운받을 수 있습니다.\n",
    "\n",
    "가장 먼저 해야 할 일은 불러온 저장한 데이터를 불러와 `DataFrame` 의 형태로 변환시키는 것입니다. 데이터의 확장자에 따라 판다스의 `read_csv()`, `read_table()`, `read_fwf()` 등의 API 중에 골라 사용하면 됩니다. 함수인자로는 데이터 파일의 경로가 주어집니다.\n",
    "\n",
    "저장한 타이타닉 탑승자 데이터 파일을 불러와보겠습니다."
   ]
  },
  {
   "cell_type": "code",
   "execution_count": 16,
   "id": "b10f08b0",
   "metadata": {},
   "outputs": [
    {
     "name": "stdout",
     "output_type": "stream",
     "text": [
      "titanic 변수 type: <class 'pandas.core.frame.DataFrame'>\n"
     ]
    },
    {
     "data": {
      "text/html": [
       "<div>\n",
       "<style scoped>\n",
       "    .dataframe tbody tr th:only-of-type {\n",
       "        vertical-align: middle;\n",
       "    }\n",
       "\n",
       "    .dataframe tbody tr th {\n",
       "        vertical-align: top;\n",
       "    }\n",
       "\n",
       "    .dataframe thead th {\n",
       "        text-align: right;\n",
       "    }\n",
       "</style>\n",
       "<table border=\"1\" class=\"dataframe\">\n",
       "  <thead>\n",
       "    <tr style=\"text-align: right;\">\n",
       "      <th></th>\n",
       "      <th>PassengerId</th>\n",
       "      <th>Survived</th>\n",
       "      <th>Pclass</th>\n",
       "      <th>Name</th>\n",
       "      <th>Sex</th>\n",
       "      <th>Age</th>\n",
       "      <th>SibSp</th>\n",
       "      <th>Parch</th>\n",
       "      <th>Ticket</th>\n",
       "      <th>Fare</th>\n",
       "      <th>Cabin</th>\n",
       "      <th>Embarked</th>\n",
       "    </tr>\n",
       "  </thead>\n",
       "  <tbody>\n",
       "    <tr>\n",
       "      <th>0</th>\n",
       "      <td>1</td>\n",
       "      <td>0</td>\n",
       "      <td>3</td>\n",
       "      <td>Braund, Mr. Owen Harris</td>\n",
       "      <td>male</td>\n",
       "      <td>22.0</td>\n",
       "      <td>1</td>\n",
       "      <td>0</td>\n",
       "      <td>A/5 21171</td>\n",
       "      <td>7.2500</td>\n",
       "      <td>NaN</td>\n",
       "      <td>S</td>\n",
       "    </tr>\n",
       "    <tr>\n",
       "      <th>1</th>\n",
       "      <td>2</td>\n",
       "      <td>1</td>\n",
       "      <td>1</td>\n",
       "      <td>Cumings, Mrs. John Bradley (Florence Briggs Th...</td>\n",
       "      <td>female</td>\n",
       "      <td>38.0</td>\n",
       "      <td>1</td>\n",
       "      <td>0</td>\n",
       "      <td>PC 17599</td>\n",
       "      <td>71.2833</td>\n",
       "      <td>C85</td>\n",
       "      <td>C</td>\n",
       "    </tr>\n",
       "    <tr>\n",
       "      <th>2</th>\n",
       "      <td>3</td>\n",
       "      <td>1</td>\n",
       "      <td>3</td>\n",
       "      <td>Heikkinen, Miss. Laina</td>\n",
       "      <td>female</td>\n",
       "      <td>26.0</td>\n",
       "      <td>0</td>\n",
       "      <td>0</td>\n",
       "      <td>STON/O2. 3101282</td>\n",
       "      <td>7.9250</td>\n",
       "      <td>NaN</td>\n",
       "      <td>S</td>\n",
       "    </tr>\n",
       "    <tr>\n",
       "      <th>3</th>\n",
       "      <td>4</td>\n",
       "      <td>1</td>\n",
       "      <td>1</td>\n",
       "      <td>Futrelle, Mrs. Jacques Heath (Lily May Peel)</td>\n",
       "      <td>female</td>\n",
       "      <td>35.0</td>\n",
       "      <td>1</td>\n",
       "      <td>0</td>\n",
       "      <td>113803</td>\n",
       "      <td>53.1000</td>\n",
       "      <td>C123</td>\n",
       "      <td>S</td>\n",
       "    </tr>\n",
       "    <tr>\n",
       "      <th>4</th>\n",
       "      <td>5</td>\n",
       "      <td>0</td>\n",
       "      <td>3</td>\n",
       "      <td>Allen, Mr. William Henry</td>\n",
       "      <td>male</td>\n",
       "      <td>35.0</td>\n",
       "      <td>0</td>\n",
       "      <td>0</td>\n",
       "      <td>373450</td>\n",
       "      <td>8.0500</td>\n",
       "      <td>NaN</td>\n",
       "      <td>S</td>\n",
       "    </tr>\n",
       "    <tr>\n",
       "      <th>...</th>\n",
       "      <td>...</td>\n",
       "      <td>...</td>\n",
       "      <td>...</td>\n",
       "      <td>...</td>\n",
       "      <td>...</td>\n",
       "      <td>...</td>\n",
       "      <td>...</td>\n",
       "      <td>...</td>\n",
       "      <td>...</td>\n",
       "      <td>...</td>\n",
       "      <td>...</td>\n",
       "      <td>...</td>\n",
       "    </tr>\n",
       "    <tr>\n",
       "      <th>886</th>\n",
       "      <td>887</td>\n",
       "      <td>0</td>\n",
       "      <td>2</td>\n",
       "      <td>Montvila, Rev. Juozas</td>\n",
       "      <td>male</td>\n",
       "      <td>27.0</td>\n",
       "      <td>0</td>\n",
       "      <td>0</td>\n",
       "      <td>211536</td>\n",
       "      <td>13.0000</td>\n",
       "      <td>NaN</td>\n",
       "      <td>S</td>\n",
       "    </tr>\n",
       "    <tr>\n",
       "      <th>887</th>\n",
       "      <td>888</td>\n",
       "      <td>1</td>\n",
       "      <td>1</td>\n",
       "      <td>Graham, Miss. Margaret Edith</td>\n",
       "      <td>female</td>\n",
       "      <td>19.0</td>\n",
       "      <td>0</td>\n",
       "      <td>0</td>\n",
       "      <td>112053</td>\n",
       "      <td>30.0000</td>\n",
       "      <td>B42</td>\n",
       "      <td>S</td>\n",
       "    </tr>\n",
       "    <tr>\n",
       "      <th>888</th>\n",
       "      <td>889</td>\n",
       "      <td>0</td>\n",
       "      <td>3</td>\n",
       "      <td>Johnston, Miss. Catherine Helen \"Carrie\"</td>\n",
       "      <td>female</td>\n",
       "      <td>NaN</td>\n",
       "      <td>1</td>\n",
       "      <td>2</td>\n",
       "      <td>W./C. 6607</td>\n",
       "      <td>23.4500</td>\n",
       "      <td>NaN</td>\n",
       "      <td>S</td>\n",
       "    </tr>\n",
       "    <tr>\n",
       "      <th>889</th>\n",
       "      <td>890</td>\n",
       "      <td>1</td>\n",
       "      <td>1</td>\n",
       "      <td>Behr, Mr. Karl Howell</td>\n",
       "      <td>male</td>\n",
       "      <td>26.0</td>\n",
       "      <td>0</td>\n",
       "      <td>0</td>\n",
       "      <td>111369</td>\n",
       "      <td>30.0000</td>\n",
       "      <td>C148</td>\n",
       "      <td>C</td>\n",
       "    </tr>\n",
       "    <tr>\n",
       "      <th>890</th>\n",
       "      <td>891</td>\n",
       "      <td>0</td>\n",
       "      <td>3</td>\n",
       "      <td>Dooley, Mr. Patrick</td>\n",
       "      <td>male</td>\n",
       "      <td>32.0</td>\n",
       "      <td>0</td>\n",
       "      <td>0</td>\n",
       "      <td>370376</td>\n",
       "      <td>7.7500</td>\n",
       "      <td>NaN</td>\n",
       "      <td>Q</td>\n",
       "    </tr>\n",
       "  </tbody>\n",
       "</table>\n",
       "<p>891 rows × 12 columns</p>\n",
       "</div>"
      ],
      "text/plain": [
       "     PassengerId  Survived  Pclass  \\\n",
       "0              1         0       3   \n",
       "1              2         1       1   \n",
       "2              3         1       3   \n",
       "3              4         1       1   \n",
       "4              5         0       3   \n",
       "..           ...       ...     ...   \n",
       "886          887         0       2   \n",
       "887          888         1       1   \n",
       "888          889         0       3   \n",
       "889          890         1       1   \n",
       "890          891         0       3   \n",
       "\n",
       "                                                  Name     Sex   Age  SibSp  \\\n",
       "0                              Braund, Mr. Owen Harris    male  22.0      1   \n",
       "1    Cumings, Mrs. John Bradley (Florence Briggs Th...  female  38.0      1   \n",
       "2                               Heikkinen, Miss. Laina  female  26.0      0   \n",
       "3         Futrelle, Mrs. Jacques Heath (Lily May Peel)  female  35.0      1   \n",
       "4                             Allen, Mr. William Henry    male  35.0      0   \n",
       "..                                                 ...     ...   ...    ...   \n",
       "886                              Montvila, Rev. Juozas    male  27.0      0   \n",
       "887                       Graham, Miss. Margaret Edith  female  19.0      0   \n",
       "888           Johnston, Miss. Catherine Helen \"Carrie\"  female   NaN      1   \n",
       "889                              Behr, Mr. Karl Howell    male  26.0      0   \n",
       "890                                Dooley, Mr. Patrick    male  32.0      0   \n",
       "\n",
       "     Parch            Ticket     Fare Cabin Embarked  \n",
       "0        0         A/5 21171   7.2500   NaN        S  \n",
       "1        0          PC 17599  71.2833   C85        C  \n",
       "2        0  STON/O2. 3101282   7.9250   NaN        S  \n",
       "3        0            113803  53.1000  C123        S  \n",
       "4        0            373450   8.0500   NaN        S  \n",
       "..     ...               ...      ...   ...      ...  \n",
       "886      0            211536  13.0000   NaN        S  \n",
       "887      0            112053  30.0000   B42        S  \n",
       "888      2        W./C. 6607  23.4500   NaN        S  \n",
       "889      0            111369  30.0000  C148        C  \n",
       "890      0            370376   7.7500   NaN        Q  \n",
       "\n",
       "[891 rows x 12 columns]"
      ]
     },
     "execution_count": 16,
     "metadata": {},
     "output_type": "execute_result"
    }
   ],
   "source": [
    "titanic_df = pd.read_csv('titanic_train.csv')\n",
    "print('titanic 변수 type:', type(titanic_df))\n",
    "titanic_df"
   ]
  },
  {
   "cell_type": "markdown",
   "id": "29b415c2",
   "metadata": {},
   "source": [
    "불러온 데이터 titanic_df 는 `DataFrame` type 임을 알 수 있습니다. 891개의 행과 12개의 열로 구성되어 있으며, 상위 5행과 하위 5행의 값을 살펴볼 수 있습니다.\n",
    "\n",
    "이처럼 불러온 데이터는 매우 크기 때문에 그 값을 모두 확인하는 것은 효율적이지 못합니다. 따라서 불러온 데이터의 구성을 살펴보기 위해 판다스의 다양한 매서드들을 사용해 볼 수 있습니다.\n",
    "\n",
    "`head()` 매서드는 주어진 함수인자 n 에 대해 상위 n 행을 출력합니다. `shape()` 매서드는 행과 열의 개수를 튜플의 형태로 반환합니다. `info()` 매서드는 각 열별 데이터의 건수와 데이터 타입, `Null` 데이터의 개수를 표시하여 줍니다. `describe()` 매서드는 각 열의 평균값, 최댓값, 최솟값, 표준편차 등의 통계적인 정보를 제공합니다. 타이타닉 탑승자 데이터에 다음 매서드들을 적용해봅시다."
   ]
  },
  {
   "cell_type": "code",
   "execution_count": 17,
   "id": "2230133a",
   "metadata": {},
   "outputs": [
    {
     "data": {
      "text/html": [
       "<div>\n",
       "<style scoped>\n",
       "    .dataframe tbody tr th:only-of-type {\n",
       "        vertical-align: middle;\n",
       "    }\n",
       "\n",
       "    .dataframe tbody tr th {\n",
       "        vertical-align: top;\n",
       "    }\n",
       "\n",
       "    .dataframe thead th {\n",
       "        text-align: right;\n",
       "    }\n",
       "</style>\n",
       "<table border=\"1\" class=\"dataframe\">\n",
       "  <thead>\n",
       "    <tr style=\"text-align: right;\">\n",
       "      <th></th>\n",
       "      <th>PassengerId</th>\n",
       "      <th>Survived</th>\n",
       "      <th>Pclass</th>\n",
       "      <th>Name</th>\n",
       "      <th>Sex</th>\n",
       "      <th>Age</th>\n",
       "      <th>SibSp</th>\n",
       "      <th>Parch</th>\n",
       "      <th>Ticket</th>\n",
       "      <th>Fare</th>\n",
       "      <th>Cabin</th>\n",
       "      <th>Embarked</th>\n",
       "    </tr>\n",
       "  </thead>\n",
       "  <tbody>\n",
       "    <tr>\n",
       "      <th>0</th>\n",
       "      <td>1</td>\n",
       "      <td>0</td>\n",
       "      <td>3</td>\n",
       "      <td>Braund, Mr. Owen Harris</td>\n",
       "      <td>male</td>\n",
       "      <td>22.0</td>\n",
       "      <td>1</td>\n",
       "      <td>0</td>\n",
       "      <td>A/5 21171</td>\n",
       "      <td>7.2500</td>\n",
       "      <td>NaN</td>\n",
       "      <td>S</td>\n",
       "    </tr>\n",
       "    <tr>\n",
       "      <th>1</th>\n",
       "      <td>2</td>\n",
       "      <td>1</td>\n",
       "      <td>1</td>\n",
       "      <td>Cumings, Mrs. John Bradley (Florence Briggs Th...</td>\n",
       "      <td>female</td>\n",
       "      <td>38.0</td>\n",
       "      <td>1</td>\n",
       "      <td>0</td>\n",
       "      <td>PC 17599</td>\n",
       "      <td>71.2833</td>\n",
       "      <td>C85</td>\n",
       "      <td>C</td>\n",
       "    </tr>\n",
       "    <tr>\n",
       "      <th>2</th>\n",
       "      <td>3</td>\n",
       "      <td>1</td>\n",
       "      <td>3</td>\n",
       "      <td>Heikkinen, Miss. Laina</td>\n",
       "      <td>female</td>\n",
       "      <td>26.0</td>\n",
       "      <td>0</td>\n",
       "      <td>0</td>\n",
       "      <td>STON/O2. 3101282</td>\n",
       "      <td>7.9250</td>\n",
       "      <td>NaN</td>\n",
       "      <td>S</td>\n",
       "    </tr>\n",
       "  </tbody>\n",
       "</table>\n",
       "</div>"
      ],
      "text/plain": [
       "   PassengerId  Survived  Pclass  \\\n",
       "0            1         0       3   \n",
       "1            2         1       1   \n",
       "2            3         1       3   \n",
       "\n",
       "                                                Name     Sex   Age  SibSp  \\\n",
       "0                            Braund, Mr. Owen Harris    male  22.0      1   \n",
       "1  Cumings, Mrs. John Bradley (Florence Briggs Th...  female  38.0      1   \n",
       "2                             Heikkinen, Miss. Laina  female  26.0      0   \n",
       "\n",
       "   Parch            Ticket     Fare Cabin Embarked  \n",
       "0      0         A/5 21171   7.2500   NaN        S  \n",
       "1      0          PC 17599  71.2833   C85        C  \n",
       "2      0  STON/O2. 3101282   7.9250   NaN        S  "
      ]
     },
     "execution_count": 17,
     "metadata": {},
     "output_type": "execute_result"
    }
   ],
   "source": [
    "titanic_df.head(3)\n"
   ]
  },
  {
   "cell_type": "code",
   "execution_count": 18,
   "id": "03f9ba59",
   "metadata": {},
   "outputs": [
    {
     "name": "stdout",
     "output_type": "stream",
     "text": [
      "Dataframe 의 크기:  (891, 12)\n",
      "<class 'pandas.core.frame.DataFrame'>\n",
      "RangeIndex: 891 entries, 0 to 890\n",
      "Data columns (total 12 columns):\n",
      " #   Column       Non-Null Count  Dtype  \n",
      "---  ------       --------------  -----  \n",
      " 0   PassengerId  891 non-null    int64  \n",
      " 1   Survived     891 non-null    int64  \n",
      " 2   Pclass       891 non-null    int64  \n",
      " 3   Name         891 non-null    object \n",
      " 4   Sex          891 non-null    object \n",
      " 5   Age          714 non-null    float64\n",
      " 6   SibSp        891 non-null    int64  \n",
      " 7   Parch        891 non-null    int64  \n",
      " 8   Ticket       891 non-null    object \n",
      " 9   Fare         891 non-null    float64\n",
      " 10  Cabin        204 non-null    object \n",
      " 11  Embarked     889 non-null    object \n",
      "dtypes: float64(2), int64(5), object(5)\n",
      "memory usage: 83.7+ KB\n"
     ]
    }
   ],
   "source": [
    "print('Dataframe 의 크기: ', titanic_df.shape)\n",
    "\n",
    "titanic_df.info()"
   ]
  },
  {
   "cell_type": "code",
   "execution_count": 19,
   "id": "3d77183d",
   "metadata": {},
   "outputs": [
    {
     "data": {
      "text/html": [
       "<div>\n",
       "<style scoped>\n",
       "    .dataframe tbody tr th:only-of-type {\n",
       "        vertical-align: middle;\n",
       "    }\n",
       "\n",
       "    .dataframe tbody tr th {\n",
       "        vertical-align: top;\n",
       "    }\n",
       "\n",
       "    .dataframe thead th {\n",
       "        text-align: right;\n",
       "    }\n",
       "</style>\n",
       "<table border=\"1\" class=\"dataframe\">\n",
       "  <thead>\n",
       "    <tr style=\"text-align: right;\">\n",
       "      <th></th>\n",
       "      <th>PassengerId</th>\n",
       "      <th>Survived</th>\n",
       "      <th>Pclass</th>\n",
       "      <th>Age</th>\n",
       "      <th>SibSp</th>\n",
       "      <th>Parch</th>\n",
       "      <th>Fare</th>\n",
       "    </tr>\n",
       "  </thead>\n",
       "  <tbody>\n",
       "    <tr>\n",
       "      <th>count</th>\n",
       "      <td>891.000000</td>\n",
       "      <td>891.000000</td>\n",
       "      <td>891.000000</td>\n",
       "      <td>714.000000</td>\n",
       "      <td>891.000000</td>\n",
       "      <td>891.000000</td>\n",
       "      <td>891.000000</td>\n",
       "    </tr>\n",
       "    <tr>\n",
       "      <th>mean</th>\n",
       "      <td>446.000000</td>\n",
       "      <td>0.383838</td>\n",
       "      <td>2.308642</td>\n",
       "      <td>29.699118</td>\n",
       "      <td>0.523008</td>\n",
       "      <td>0.381594</td>\n",
       "      <td>32.204208</td>\n",
       "    </tr>\n",
       "    <tr>\n",
       "      <th>std</th>\n",
       "      <td>257.353842</td>\n",
       "      <td>0.486592</td>\n",
       "      <td>0.836071</td>\n",
       "      <td>14.526497</td>\n",
       "      <td>1.102743</td>\n",
       "      <td>0.806057</td>\n",
       "      <td>49.693429</td>\n",
       "    </tr>\n",
       "    <tr>\n",
       "      <th>min</th>\n",
       "      <td>1.000000</td>\n",
       "      <td>0.000000</td>\n",
       "      <td>1.000000</td>\n",
       "      <td>0.420000</td>\n",
       "      <td>0.000000</td>\n",
       "      <td>0.000000</td>\n",
       "      <td>0.000000</td>\n",
       "    </tr>\n",
       "    <tr>\n",
       "      <th>25%</th>\n",
       "      <td>223.500000</td>\n",
       "      <td>0.000000</td>\n",
       "      <td>2.000000</td>\n",
       "      <td>20.125000</td>\n",
       "      <td>0.000000</td>\n",
       "      <td>0.000000</td>\n",
       "      <td>7.910400</td>\n",
       "    </tr>\n",
       "    <tr>\n",
       "      <th>50%</th>\n",
       "      <td>446.000000</td>\n",
       "      <td>0.000000</td>\n",
       "      <td>3.000000</td>\n",
       "      <td>28.000000</td>\n",
       "      <td>0.000000</td>\n",
       "      <td>0.000000</td>\n",
       "      <td>14.454200</td>\n",
       "    </tr>\n",
       "    <tr>\n",
       "      <th>75%</th>\n",
       "      <td>668.500000</td>\n",
       "      <td>1.000000</td>\n",
       "      <td>3.000000</td>\n",
       "      <td>38.000000</td>\n",
       "      <td>1.000000</td>\n",
       "      <td>0.000000</td>\n",
       "      <td>31.000000</td>\n",
       "    </tr>\n",
       "    <tr>\n",
       "      <th>max</th>\n",
       "      <td>891.000000</td>\n",
       "      <td>1.000000</td>\n",
       "      <td>3.000000</td>\n",
       "      <td>80.000000</td>\n",
       "      <td>8.000000</td>\n",
       "      <td>6.000000</td>\n",
       "      <td>512.329200</td>\n",
       "    </tr>\n",
       "  </tbody>\n",
       "</table>\n",
       "</div>"
      ],
      "text/plain": [
       "       PassengerId    Survived      Pclass         Age       SibSp  \\\n",
       "count   891.000000  891.000000  891.000000  714.000000  891.000000   \n",
       "mean    446.000000    0.383838    2.308642   29.699118    0.523008   \n",
       "std     257.353842    0.486592    0.836071   14.526497    1.102743   \n",
       "min       1.000000    0.000000    1.000000    0.420000    0.000000   \n",
       "25%     223.500000    0.000000    2.000000   20.125000    0.000000   \n",
       "50%     446.000000    0.000000    3.000000   28.000000    0.000000   \n",
       "75%     668.500000    1.000000    3.000000   38.000000    1.000000   \n",
       "max     891.000000    1.000000    3.000000   80.000000    8.000000   \n",
       "\n",
       "            Parch        Fare  \n",
       "count  891.000000  891.000000  \n",
       "mean     0.381594   32.204208  \n",
       "std      0.806057   49.693429  \n",
       "min      0.000000    0.000000  \n",
       "25%      0.000000    7.910400  \n",
       "50%      0.000000   14.454200  \n",
       "75%      0.000000   31.000000  \n",
       "max      6.000000  512.329200  "
      ]
     },
     "execution_count": 19,
     "metadata": {},
     "output_type": "execute_result"
    }
   ],
   "source": [
    "titanic_df.describe()"
   ]
  },
  {
   "cell_type": "markdown",
   "id": "db95212e",
   "metadata": {},
   "source": [
    "한 열의 데이터의 분포를 살펴보고 싶을 때는 그 행을 따로 분리하여 `Series`의 형태로 만든 다음, `.value_counts()` 매서드를 통해 각 값의 개수를 세주면 됩니다. 타이타닉 탑승자 데이터에서 `Pclass` 열의 데이터 분포를 살펴봅시다."
   ]
  },
  {
   "cell_type": "code",
   "execution_count": 20,
   "id": "9ba6083e",
   "metadata": {},
   "outputs": [
    {
     "name": "stdout",
     "output_type": "stream",
     "text": [
      "3    491\n",
      "1    216\n",
      "2    184\n",
      "Name: Pclass, dtype: int64\n"
     ]
    }
   ],
   "source": [
    "value_counts = titanic_df['Pclass'].value_counts()\n",
    "print(value_counts)"
   ]
  },
  {
   "cell_type": "markdown",
   "id": "2f33d5f9",
   "metadata": {},
   "source": [
    "Pclass 값이 3 인 행이 491개, 1인 행이 216개, 2인 행이 184개 존재한다는 것을 알 수 있습니다.\n",
    "\n",
    "### 4.2 DataFrame 과 리스트, 딕셔너리, 넘파이 ndarray 상호변환\n",
    "\n",
    "데이터의 가공을 위해 `DataFrame`을 다양한 데이터형으로 변환하여 사용하고, 다양한 데이터형을 다시 `DataFrame` 으로 변환시킬 수 있습니다.\n",
    "\n",
    "### 4.2.1 넘파이 ndarray, 리스트, 딕셔너리를 DataFrame으로 변환하기\n",
    "\n",
    "DataFrame의 특징은 리스트와 넘파이 ndarray와 다르게 칼럼명을 가지고 있다는 점입니다. 넘파이 ndarray, 리스트를 DataFrame 으로 변환시켜 줄 때는 `pd.DataFrame()` 매서드를 사용하고, 인자로 사용할 칼럼명들을 넘겨주면 됩니다. 딕셔너리를 DataFrame 으로 변환시켜줄 때는 저절로 딕셔너리의 키가 칼럼명으로 변환됩니다.\n",
    "주의하여야 할 점은 DataFrame은 2차원이기 때문에 2차원 이하의 리스트와 ndarray 만 DataFrame으로 변환이 가능합니다."
   ]
  },
  {
   "cell_type": "code",
   "execution_count": 21,
   "id": "3517cf9b",
   "metadata": {},
   "outputs": [
    {
     "name": "stdout",
     "output_type": "stream",
     "text": [
      "2차원 리스트로 만든 DataFrame:\n",
      "    col1  col2  col3\n",
      "0     1     2     3\n",
      "1     4     5     6\n",
      "2차원 ndarray로 만든 DataFrame:\n",
      "    col1  col2  col3\n",
      "0     1     2     3\n",
      "1     4     5     6\n",
      "Dictionary 로 만든 DataFrame:\n",
      "    col1  col2  col3\n",
      "0     1     2     3\n",
      "1     4     5     6\n"
     ]
    }
   ],
   "source": [
    "import numpy as np\n",
    "import pandas as pd\n",
    "col_name=['col1', 'col2', 'col3']\n",
    "\n",
    "list = [[1,2,3,],[4,5,6]]\n",
    "array = np.array(list)\n",
    "dict = {'col1': [1, 4], 'col2': [2, 5], 'col3': [3, 6]}\n",
    "\n",
    "print('2차원 리스트로 만든 DataFrame:\\n', pd.DataFrame(list, columns= col_name))\n",
    "print('2차원 ndarray로 만든 DataFrame:\\n', pd.DataFrame(array, columns= col_name))\n",
    "print('Dictionary 로 만든 DataFrame:\\n', pd.DataFrame(dict))"
   ]
  },
  {
   "cell_type": "code",
   "execution_count": 22,
   "id": "9c45819d",
   "metadata": {},
   "outputs": [
    {
     "name": "stdout",
     "output_type": "stream",
     "text": [
      "array의 타입: <class 'numpy.ndarray'>\n",
      "[[1 2 3]\n",
      " [4 5 6]]\n",
      "array의 타입: <class 'list'>\n",
      "[[1, 2, 3], [4, 5, 6]]\n",
      "array의 타입: <class 'dict'>\n",
      "{'col1': {0: 1, 1: 4}, 'col2': {0: 2, 1: 5}, 'col3': {0: 3, 1: 6}}\n"
     ]
    }
   ],
   "source": [
    "data = {'col1': [1, 4], 'col2': [2, 5], 'col3': [3, 6]}\n",
    "dataframe = pd.DataFrame(data)\n",
    "\n",
    "array = dataframe.values\n",
    "print(\"array의 타입:\",type(array))\n",
    "print(array)\n",
    "\n",
    "list = dataframe.values.tolist()\n",
    "print(\"array의 타입:\",type(list))\n",
    "print(list)\n",
    "\n",
    "dict = dataframe.to_dict()\n",
    "print(\"array의 타입:\",type(dict))\n",
    "print(dict)"
   ]
  },
  {
   "cell_type": "markdown",
   "id": "8a3f37a2",
   "metadata": {},
   "source": [
    "### 4.3 DataFrame 과 리스트, 딕셔너리, 넘파이 ndarray 상호변환\n",
    "\n",
    "`[]` 연산자를 활용하여 `DataFrame` 의 칼럼 데이터 세트 생성과 수정을 쉽게 할 수 있습니다. 다음과 같은 예시를 살펴봅시다."
   ]
  },
  {
   "cell_type": "code",
   "execution_count": 23,
   "id": "a358b350",
   "metadata": {},
   "outputs": [
    {
     "data": {
      "text/html": [
       "<div>\n",
       "<style scoped>\n",
       "    .dataframe tbody tr th:only-of-type {\n",
       "        vertical-align: middle;\n",
       "    }\n",
       "\n",
       "    .dataframe tbody tr th {\n",
       "        vertical-align: top;\n",
       "    }\n",
       "\n",
       "    .dataframe thead th {\n",
       "        text-align: right;\n",
       "    }\n",
       "</style>\n",
       "<table border=\"1\" class=\"dataframe\">\n",
       "  <thead>\n",
       "    <tr style=\"text-align: right;\">\n",
       "      <th></th>\n",
       "      <th>PassengerId</th>\n",
       "      <th>Survived</th>\n",
       "      <th>Pclass</th>\n",
       "      <th>Name</th>\n",
       "      <th>Sex</th>\n",
       "      <th>Age</th>\n",
       "      <th>SibSp</th>\n",
       "      <th>Parch</th>\n",
       "      <th>Ticket</th>\n",
       "      <th>Fare</th>\n",
       "      <th>Cabin</th>\n",
       "      <th>Embarked</th>\n",
       "      <th>Age_by_10</th>\n",
       "      <th>Family_No</th>\n",
       "    </tr>\n",
       "  </thead>\n",
       "  <tbody>\n",
       "    <tr>\n",
       "      <th>0</th>\n",
       "      <td>1</td>\n",
       "      <td>0</td>\n",
       "      <td>3</td>\n",
       "      <td>Braund, Mr. Owen Harris</td>\n",
       "      <td>male</td>\n",
       "      <td>22.0</td>\n",
       "      <td>1</td>\n",
       "      <td>0</td>\n",
       "      <td>A/5 21171</td>\n",
       "      <td>7.2500</td>\n",
       "      <td>NaN</td>\n",
       "      <td>S</td>\n",
       "      <td>220.0</td>\n",
       "      <td>2</td>\n",
       "    </tr>\n",
       "    <tr>\n",
       "      <th>1</th>\n",
       "      <td>2</td>\n",
       "      <td>1</td>\n",
       "      <td>1</td>\n",
       "      <td>Cumings, Mrs. John Bradley (Florence Briggs Th...</td>\n",
       "      <td>female</td>\n",
       "      <td>38.0</td>\n",
       "      <td>1</td>\n",
       "      <td>0</td>\n",
       "      <td>PC 17599</td>\n",
       "      <td>71.2833</td>\n",
       "      <td>C85</td>\n",
       "      <td>C</td>\n",
       "      <td>380.0</td>\n",
       "      <td>2</td>\n",
       "    </tr>\n",
       "    <tr>\n",
       "      <th>2</th>\n",
       "      <td>3</td>\n",
       "      <td>1</td>\n",
       "      <td>3</td>\n",
       "      <td>Heikkinen, Miss. Laina</td>\n",
       "      <td>female</td>\n",
       "      <td>26.0</td>\n",
       "      <td>0</td>\n",
       "      <td>0</td>\n",
       "      <td>STON/O2. 3101282</td>\n",
       "      <td>7.9250</td>\n",
       "      <td>NaN</td>\n",
       "      <td>S</td>\n",
       "      <td>260.0</td>\n",
       "      <td>1</td>\n",
       "    </tr>\n",
       "  </tbody>\n",
       "</table>\n",
       "</div>"
      ],
      "text/plain": [
       "   PassengerId  Survived  Pclass  \\\n",
       "0            1         0       3   \n",
       "1            2         1       1   \n",
       "2            3         1       3   \n",
       "\n",
       "                                                Name     Sex   Age  SibSp  \\\n",
       "0                            Braund, Mr. Owen Harris    male  22.0      1   \n",
       "1  Cumings, Mrs. John Bradley (Florence Briggs Th...  female  38.0      1   \n",
       "2                             Heikkinen, Miss. Laina  female  26.0      0   \n",
       "\n",
       "   Parch            Ticket     Fare Cabin Embarked  Age_by_10  Family_No  \n",
       "0      0         A/5 21171   7.2500   NaN        S      220.0          2  \n",
       "1      0          PC 17599  71.2833   C85        C      380.0          2  \n",
       "2      0  STON/O2. 3101282   7.9250   NaN        S      260.0          1  "
      ]
     },
     "execution_count": 23,
     "metadata": {},
     "output_type": "execute_result"
    }
   ],
   "source": [
    "titanic_df['Age_by_10']= titanic_df['Age']*10\n",
    "titanic_df['Family_No']= titanic_df['SibSp'] + titanic_df['Parch'] +1\n",
    "titanic_df.head(3)"
   ]
  },
  {
   "cell_type": "markdown",
   "id": "b8fe3420",
   "metadata": {},
   "source": [
    "[실행결과]\n",
    "![실행결과](./images/1-2/4.PNG)\n",
    "\n",
    "기존 칼럼들의 데이터를 가공하여 새로운 칼럼 `Age` 와 `Family_No` 가 만들어지는 것을 확인할 수 있습니다.\n",
    "\n",
    "### 4.3 DataFrame 데이터 삭제\n",
    "\n",
    "`DataFrame` 에서 데이터를 삭제하기 위해서는 `drop()` 매서드를 사용합니다. `drop()` 매서드의 원형은 다음과 같습니다."
   ]
  },
  {
   "cell_type": "code",
   "execution_count": null,
   "id": "bab6e4bd",
   "metadata": {},
   "outputs": [],
   "source": [
    "DataFrame.drop(labels=None, axis=0, index=None, columns=None, level=None, inplace=False, errors='raise')"
   ]
  },
  {
   "cell_type": "markdown",
   "id": "6b770856",
   "metadata": {},
   "source": [
    "가장 중요한 파라미터는 `labels`, `axis`, 그리고 `inplace` 입니다.\n",
    "\n",
    "`axis` 는 축의 방향을 지정하는 파라미터로, 값이 0 일 경우 로우 방향 축, 1일 경우 칼럼 방향 축으로 데이터를 삭제합니다. `labels` 파라미터는 제거할 데이터의 인덱스를 지정합니다.\n",
    "\n",
    "`inplace` 는 원본 `DataFrame`에서 삭제를 수행할지를 지정하는 코드입니다. `inplace` 의 값이 False 로 지정되었다면, 원본에서는 삭제를 수행하지 않고, 삭제가 수행된 결과의 새로운 `DataFrame`을 결과값으로 리턴합니다. 반면 `inplace` 의 값이 True 로 지정되었다면, 원본에서는 삭제를 수행합니다."
   ]
  },
  {
   "cell_type": "code",
   "execution_count": 24,
   "id": "c6cea82e",
   "metadata": {},
   "outputs": [
    {
     "data": {
      "text/html": [
       "<div>\n",
       "<style scoped>\n",
       "    .dataframe tbody tr th:only-of-type {\n",
       "        vertical-align: middle;\n",
       "    }\n",
       "\n",
       "    .dataframe tbody tr th {\n",
       "        vertical-align: top;\n",
       "    }\n",
       "\n",
       "    .dataframe thead th {\n",
       "        text-align: right;\n",
       "    }\n",
       "</style>\n",
       "<table border=\"1\" class=\"dataframe\">\n",
       "  <thead>\n",
       "    <tr style=\"text-align: right;\">\n",
       "      <th></th>\n",
       "      <th>PassengerId</th>\n",
       "      <th>Survived</th>\n",
       "      <th>Pclass</th>\n",
       "      <th>Name</th>\n",
       "      <th>Sex</th>\n",
       "      <th>Age</th>\n",
       "      <th>SibSp</th>\n",
       "      <th>Parch</th>\n",
       "      <th>Ticket</th>\n",
       "      <th>Fare</th>\n",
       "      <th>Cabin</th>\n",
       "      <th>Embarked</th>\n",
       "    </tr>\n",
       "  </thead>\n",
       "  <tbody>\n",
       "    <tr>\n",
       "      <th>0</th>\n",
       "      <td>1</td>\n",
       "      <td>0</td>\n",
       "      <td>3</td>\n",
       "      <td>Braund, Mr. Owen Harris</td>\n",
       "      <td>male</td>\n",
       "      <td>22.0</td>\n",
       "      <td>1</td>\n",
       "      <td>0</td>\n",
       "      <td>A/5 21171</td>\n",
       "      <td>7.2500</td>\n",
       "      <td>NaN</td>\n",
       "      <td>S</td>\n",
       "    </tr>\n",
       "    <tr>\n",
       "      <th>1</th>\n",
       "      <td>2</td>\n",
       "      <td>1</td>\n",
       "      <td>1</td>\n",
       "      <td>Cumings, Mrs. John Bradley (Florence Briggs Th...</td>\n",
       "      <td>female</td>\n",
       "      <td>38.0</td>\n",
       "      <td>1</td>\n",
       "      <td>0</td>\n",
       "      <td>PC 17599</td>\n",
       "      <td>71.2833</td>\n",
       "      <td>C85</td>\n",
       "      <td>C</td>\n",
       "    </tr>\n",
       "    <tr>\n",
       "      <th>2</th>\n",
       "      <td>3</td>\n",
       "      <td>1</td>\n",
       "      <td>3</td>\n",
       "      <td>Heikkinen, Miss. Laina</td>\n",
       "      <td>female</td>\n",
       "      <td>26.0</td>\n",
       "      <td>0</td>\n",
       "      <td>0</td>\n",
       "      <td>STON/O2. 3101282</td>\n",
       "      <td>7.9250</td>\n",
       "      <td>NaN</td>\n",
       "      <td>S</td>\n",
       "    </tr>\n",
       "  </tbody>\n",
       "</table>\n",
       "</div>"
      ],
      "text/plain": [
       "   PassengerId  Survived  Pclass  \\\n",
       "0            1         0       3   \n",
       "1            2         1       1   \n",
       "2            3         1       3   \n",
       "\n",
       "                                                Name     Sex   Age  SibSp  \\\n",
       "0                            Braund, Mr. Owen Harris    male  22.0      1   \n",
       "1  Cumings, Mrs. John Bradley (Florence Briggs Th...  female  38.0      1   \n",
       "2                             Heikkinen, Miss. Laina  female  26.0      0   \n",
       "\n",
       "   Parch            Ticket     Fare Cabin Embarked  \n",
       "0      0         A/5 21171   7.2500   NaN        S  \n",
       "1      0          PC 17599  71.2833   C85        C  \n",
       "2      0  STON/O2. 3101282   7.9250   NaN        S  "
      ]
     },
     "execution_count": 24,
     "metadata": {},
     "output_type": "execute_result"
    }
   ],
   "source": [
    "titanic_drop_df = titanic_df.drop(['Age_by_10', 'Family_No'], axis=1)\n",
    "titanic_drop_df.head(3)\n",
    "                                  "
   ]
  },
  {
   "cell_type": "markdown",
   "id": "d9128aea",
   "metadata": {},
   "source": [
    "실행 결과 `Age_by_10` 칼럼과 `Family_No` 칼럼이 삭제된 새로운 데이터셋이 생성된 것을 확인할 수 있습니다."
   ]
  },
  {
   "cell_type": "code",
   "execution_count": 25,
   "id": "e4964e70",
   "metadata": {},
   "outputs": [
    {
     "data": {
      "text/html": [
       "<div>\n",
       "<style scoped>\n",
       "    .dataframe tbody tr th:only-of-type {\n",
       "        vertical-align: middle;\n",
       "    }\n",
       "\n",
       "    .dataframe tbody tr th {\n",
       "        vertical-align: top;\n",
       "    }\n",
       "\n",
       "    .dataframe thead th {\n",
       "        text-align: right;\n",
       "    }\n",
       "</style>\n",
       "<table border=\"1\" class=\"dataframe\">\n",
       "  <thead>\n",
       "    <tr style=\"text-align: right;\">\n",
       "      <th></th>\n",
       "      <th>PassengerId</th>\n",
       "      <th>Survived</th>\n",
       "      <th>Pclass</th>\n",
       "      <th>Name</th>\n",
       "      <th>Sex</th>\n",
       "      <th>Age</th>\n",
       "      <th>SibSp</th>\n",
       "      <th>Parch</th>\n",
       "      <th>Ticket</th>\n",
       "      <th>Fare</th>\n",
       "      <th>Cabin</th>\n",
       "      <th>Embarked</th>\n",
       "      <th>Age_by_10</th>\n",
       "      <th>Family_No</th>\n",
       "    </tr>\n",
       "  </thead>\n",
       "  <tbody>\n",
       "    <tr>\n",
       "      <th>3</th>\n",
       "      <td>4</td>\n",
       "      <td>1</td>\n",
       "      <td>1</td>\n",
       "      <td>Futrelle, Mrs. Jacques Heath (Lily May Peel)</td>\n",
       "      <td>female</td>\n",
       "      <td>35.0</td>\n",
       "      <td>1</td>\n",
       "      <td>0</td>\n",
       "      <td>113803</td>\n",
       "      <td>53.1000</td>\n",
       "      <td>C123</td>\n",
       "      <td>S</td>\n",
       "      <td>350.0</td>\n",
       "      <td>2</td>\n",
       "    </tr>\n",
       "    <tr>\n",
       "      <th>4</th>\n",
       "      <td>5</td>\n",
       "      <td>0</td>\n",
       "      <td>3</td>\n",
       "      <td>Allen, Mr. William Henry</td>\n",
       "      <td>male</td>\n",
       "      <td>35.0</td>\n",
       "      <td>0</td>\n",
       "      <td>0</td>\n",
       "      <td>373450</td>\n",
       "      <td>8.0500</td>\n",
       "      <td>NaN</td>\n",
       "      <td>S</td>\n",
       "      <td>350.0</td>\n",
       "      <td>1</td>\n",
       "    </tr>\n",
       "    <tr>\n",
       "      <th>5</th>\n",
       "      <td>6</td>\n",
       "      <td>0</td>\n",
       "      <td>3</td>\n",
       "      <td>Moran, Mr. James</td>\n",
       "      <td>male</td>\n",
       "      <td>NaN</td>\n",
       "      <td>0</td>\n",
       "      <td>0</td>\n",
       "      <td>330877</td>\n",
       "      <td>8.4583</td>\n",
       "      <td>NaN</td>\n",
       "      <td>Q</td>\n",
       "      <td>NaN</td>\n",
       "      <td>1</td>\n",
       "    </tr>\n",
       "  </tbody>\n",
       "</table>\n",
       "</div>"
      ],
      "text/plain": [
       "   PassengerId  Survived  Pclass  \\\n",
       "3            4         1       1   \n",
       "4            5         0       3   \n",
       "5            6         0       3   \n",
       "\n",
       "                                           Name     Sex   Age  SibSp  Parch  \\\n",
       "3  Futrelle, Mrs. Jacques Heath (Lily May Peel)  female  35.0      1      0   \n",
       "4                      Allen, Mr. William Henry    male  35.0      0      0   \n",
       "5                              Moran, Mr. James    male   NaN      0      0   \n",
       "\n",
       "   Ticket     Fare Cabin Embarked  Age_by_10  Family_No  \n",
       "3  113803  53.1000  C123        S      350.0          2  \n",
       "4  373450   8.0500   NaN        S      350.0          1  \n",
       "5  330877   8.4583   NaN        Q        NaN          1  "
      ]
     },
     "execution_count": 25,
     "metadata": {},
     "output_type": "execute_result"
    }
   ],
   "source": [
    "titanic_df.drop([0,1,2], axis=0, inplace=True)\n",
    "titanic_df.head(3)"
   ]
  },
  {
   "cell_type": "markdown",
   "id": "1c144805",
   "metadata": {},
   "source": [
    "실행 결과 원본 `dataFrame`에서 3개의 행이 삭제된 새로운 데이터셋이 생성된 것을 확인할 수 있습니다. 이때 위에서 `inplace=False` 로 칼럼들을 삭제하였기 떄문에 아직 `Age_by_10` 칼럼과 `Family_No`칼럼이 남아있다는 사실도 확인할 수 있습니다. 또, `inplace=True` 로 매서드를 사용할 때에는 반환 값이 없기 때문에 반환 값을 다시 자신에게 할당하지 않고 매서드를 호출해야 한다는 것도 확인할 수 있습니다."
   ]
  },
  {
   "cell_type": "markdown",
   "id": "91ac571c",
   "metadata": {},
   "source": [
    "\n",
    "### 4.4 Index 객체\n",
    "\n",
    "`Index` 매서드를 통해 `DataFrame` 또는 `Series` 를 1차원 넘파이 `ndarray`의 형태로 추출할 수 있습니다. 단, Index 객체의 값은 함부로 변경 할 수 없다는 특징을 갖습니다."
   ]
  },
  {
   "cell_type": "code",
   "execution_count": 26,
   "id": "ef25569f",
   "metadata": {},
   "outputs": [
    {
     "name": "stdout",
     "output_type": "stream",
     "text": [
      "RangeIndex(start=0, stop=891, step=1)\n",
      "Index 객체 array 값:\n",
      " [  0   1   2   3   4   5   6   7   8   9  10  11  12  13  14  15  16  17\n",
      "  18  19  20  21  22  23  24  25  26  27  28  29  30  31  32  33  34  35\n",
      "  36  37  38  39  40  41  42  43  44  45  46  47  48  49  50  51  52  53\n",
      "  54  55  56  57  58  59  60  61  62  63  64  65  66  67  68  69  70  71\n",
      "  72  73  74  75  76  77  78  79  80  81  82  83  84  85  86  87  88  89\n",
      "  90  91  92  93  94  95  96  97  98  99 100 101 102 103 104 105 106 107\n",
      " 108 109 110 111 112 113 114 115 116 117 118 119 120 121 122 123 124 125\n",
      " 126 127 128 129 130 131 132 133 134 135 136 137 138 139 140 141 142 143\n",
      " 144 145 146 147 148 149 150 151 152 153 154 155 156 157 158 159 160 161\n",
      " 162 163 164 165 166 167 168 169 170 171 172 173 174 175 176 177 178 179\n",
      " 180 181 182 183 184 185 186 187 188 189 190 191 192 193 194 195 196 197\n",
      " 198 199 200 201 202 203 204 205 206 207 208 209 210 211 212 213 214 215\n",
      " 216 217 218 219 220 221 222 223 224 225 226 227 228 229 230 231 232 233\n",
      " 234 235 236 237 238 239 240 241 242 243 244 245 246 247 248 249 250 251\n",
      " 252 253 254 255 256 257 258 259 260 261 262 263 264 265 266 267 268 269\n",
      " 270 271 272 273 274 275 276 277 278 279 280 281 282 283 284 285 286 287\n",
      " 288 289 290 291 292 293 294 295 296 297 298 299 300 301 302 303 304 305\n",
      " 306 307 308 309 310 311 312 313 314 315 316 317 318 319 320 321 322 323\n",
      " 324 325 326 327 328 329 330 331 332 333 334 335 336 337 338 339 340 341\n",
      " 342 343 344 345 346 347 348 349 350 351 352 353 354 355 356 357 358 359\n",
      " 360 361 362 363 364 365 366 367 368 369 370 371 372 373 374 375 376 377\n",
      " 378 379 380 381 382 383 384 385 386 387 388 389 390 391 392 393 394 395\n",
      " 396 397 398 399 400 401 402 403 404 405 406 407 408 409 410 411 412 413\n",
      " 414 415 416 417 418 419 420 421 422 423 424 425 426 427 428 429 430 431\n",
      " 432 433 434 435 436 437 438 439 440 441 442 443 444 445 446 447 448 449\n",
      " 450 451 452 453 454 455 456 457 458 459 460 461 462 463 464 465 466 467\n",
      " 468 469 470 471 472 473 474 475 476 477 478 479 480 481 482 483 484 485\n",
      " 486 487 488 489 490 491 492 493 494 495 496 497 498 499 500 501 502 503\n",
      " 504 505 506 507 508 509 510 511 512 513 514 515 516 517 518 519 520 521\n",
      " 522 523 524 525 526 527 528 529 530 531 532 533 534 535 536 537 538 539\n",
      " 540 541 542 543 544 545 546 547 548 549 550 551 552 553 554 555 556 557\n",
      " 558 559 560 561 562 563 564 565 566 567 568 569 570 571 572 573 574 575\n",
      " 576 577 578 579 580 581 582 583 584 585 586 587 588 589 590 591 592 593\n",
      " 594 595 596 597 598 599 600 601 602 603 604 605 606 607 608 609 610 611\n",
      " 612 613 614 615 616 617 618 619 620 621 622 623 624 625 626 627 628 629\n",
      " 630 631 632 633 634 635 636 637 638 639 640 641 642 643 644 645 646 647\n",
      " 648 649 650 651 652 653 654 655 656 657 658 659 660 661 662 663 664 665\n",
      " 666 667 668 669 670 671 672 673 674 675 676 677 678 679 680 681 682 683\n",
      " 684 685 686 687 688 689 690 691 692 693 694 695 696 697 698 699 700 701\n",
      " 702 703 704 705 706 707 708 709 710 711 712 713 714 715 716 717 718 719\n",
      " 720 721 722 723 724 725 726 727 728 729 730 731 732 733 734 735 736 737\n",
      " 738 739 740 741 742 743 744 745 746 747 748 749 750 751 752 753 754 755\n",
      " 756 757 758 759 760 761 762 763 764 765 766 767 768 769 770 771 772 773\n",
      " 774 775 776 777 778 779 780 781 782 783 784 785 786 787 788 789 790 791\n",
      " 792 793 794 795 796 797 798 799 800 801 802 803 804 805 806 807 808 809\n",
      " 810 811 812 813 814 815 816 817 818 819 820 821 822 823 824 825 826 827\n",
      " 828 829 830 831 832 833 834 835 836 837 838 839 840 841 842 843 844 845\n",
      " 846 847 848 849 850 851 852 853 854 855 856 857 858 859 860 861 862 863\n",
      " 864 865 866 867 868 869 870 871 872 873 874 875 876 877 878 879 880 881\n",
      " 882 883 884 885 886 887 888 889 890]\n"
     ]
    }
   ],
   "source": [
    "titanic_df = pd.read_csv('titanic_train.csv')\n",
    "indexes= titanic_df.index\n",
    "print(indexes)\n",
    "print('Index 객체 array 값:\\n', indexes.values)"
   ]
  },
  {
   "cell_type": "markdown",
   "id": "65343134",
   "metadata": {},
   "source": [
    "연산으로 Index의 구성에 변화가 생겼을 시, `reset_index()` 매서드를 수행하면 새롭게 인덱스를 연속 숫자 형으로 할당하고 기존 인덱스를 `index` 라는 새로운 칼럼 명으로 추가할 수 있습니다."
   ]
  },
  {
   "cell_type": "code",
   "execution_count": 28,
   "id": "d828c5d3",
   "metadata": {},
   "outputs": [
    {
     "data": {
      "text/html": [
       "<div>\n",
       "<style scoped>\n",
       "    .dataframe tbody tr th:only-of-type {\n",
       "        vertical-align: middle;\n",
       "    }\n",
       "\n",
       "    .dataframe tbody tr th {\n",
       "        vertical-align: top;\n",
       "    }\n",
       "\n",
       "    .dataframe thead th {\n",
       "        text-align: right;\n",
       "    }\n",
       "</style>\n",
       "<table border=\"1\" class=\"dataframe\">\n",
       "  <thead>\n",
       "    <tr style=\"text-align: right;\">\n",
       "      <th></th>\n",
       "      <th>index</th>\n",
       "      <th>PassengerId</th>\n",
       "      <th>Survived</th>\n",
       "      <th>Pclass</th>\n",
       "      <th>Name</th>\n",
       "      <th>Sex</th>\n",
       "      <th>Age</th>\n",
       "      <th>SibSp</th>\n",
       "      <th>Parch</th>\n",
       "      <th>Ticket</th>\n",
       "      <th>Fare</th>\n",
       "      <th>Cabin</th>\n",
       "      <th>Embarked</th>\n",
       "    </tr>\n",
       "  </thead>\n",
       "  <tbody>\n",
       "    <tr>\n",
       "      <th>0</th>\n",
       "      <td>0</td>\n",
       "      <td>1</td>\n",
       "      <td>0</td>\n",
       "      <td>3</td>\n",
       "      <td>Braund, Mr. Owen Harris</td>\n",
       "      <td>male</td>\n",
       "      <td>22.0</td>\n",
       "      <td>1</td>\n",
       "      <td>0</td>\n",
       "      <td>A/5 21171</td>\n",
       "      <td>7.2500</td>\n",
       "      <td>NaN</td>\n",
       "      <td>S</td>\n",
       "    </tr>\n",
       "    <tr>\n",
       "      <th>1</th>\n",
       "      <td>1</td>\n",
       "      <td>2</td>\n",
       "      <td>1</td>\n",
       "      <td>1</td>\n",
       "      <td>Cumings, Mrs. John Bradley (Florence Briggs Th...</td>\n",
       "      <td>female</td>\n",
       "      <td>38.0</td>\n",
       "      <td>1</td>\n",
       "      <td>0</td>\n",
       "      <td>PC 17599</td>\n",
       "      <td>71.2833</td>\n",
       "      <td>C85</td>\n",
       "      <td>C</td>\n",
       "    </tr>\n",
       "    <tr>\n",
       "      <th>2</th>\n",
       "      <td>2</td>\n",
       "      <td>3</td>\n",
       "      <td>1</td>\n",
       "      <td>3</td>\n",
       "      <td>Heikkinen, Miss. Laina</td>\n",
       "      <td>female</td>\n",
       "      <td>26.0</td>\n",
       "      <td>0</td>\n",
       "      <td>0</td>\n",
       "      <td>STON/O2. 3101282</td>\n",
       "      <td>7.9250</td>\n",
       "      <td>NaN</td>\n",
       "      <td>S</td>\n",
       "    </tr>\n",
       "  </tbody>\n",
       "</table>\n",
       "</div>"
      ],
      "text/plain": [
       "   index  PassengerId  Survived  Pclass  \\\n",
       "0      0            1         0       3   \n",
       "1      1            2         1       1   \n",
       "2      2            3         1       3   \n",
       "\n",
       "                                                Name     Sex   Age  SibSp  \\\n",
       "0                            Braund, Mr. Owen Harris    male  22.0      1   \n",
       "1  Cumings, Mrs. John Bradley (Florence Briggs Th...  female  38.0      1   \n",
       "2                             Heikkinen, Miss. Laina  female  26.0      0   \n",
       "\n",
       "   Parch            Ticket     Fare Cabin Embarked  \n",
       "0      0         A/5 21171   7.2500   NaN        S  \n",
       "1      0          PC 17599  71.2833   C85        C  \n",
       "2      0  STON/O2. 3101282   7.9250   NaN        S  "
      ]
     },
     "execution_count": 28,
     "metadata": {},
     "output_type": "execute_result"
    }
   ],
   "source": [
    "titanic_reset_df= titanic_df.reset_index(inplace= False)\n",
    "titanic_reset_df.head(3)"
   ]
  },
  {
   "cell_type": "markdown",
   "id": "11f451e9",
   "metadata": {},
   "source": [
    "### 4.5.1 DataFrame의 [] 연산자\n",
    "넘파이에서 `[]` 연산자를 활용한 것과 유사하게 판다스에서도 데이터 추출을 할 수 있습니다. 단, `DataFrame`에서는 [] 칼럼 명 문자 또는 인덱스로 변환 가능한 표현식만 들어갈 수 있습니다."
   ]
  },
  {
   "cell_type": "code",
   "execution_count": 31,
   "id": "bd43c502",
   "metadata": {},
   "outputs": [
    {
     "name": "stdout",
     "output_type": "stream",
     "text": [
      "단일 칼럼 데이터 추출:\n",
      " 0    3\n",
      "1    1\n",
      "2    3\n",
      "Name: Pclass, dtype: int64\n",
      "\n",
      "여러 칼럼 데이터 추출:\n",
      "    Survived  Pclass\n",
      "0         0       3\n",
      "1         1       1\n",
      "2         1       3\n"
     ]
    }
   ],
   "source": [
    "print('단일 칼럼 데이터 추출:\\n',titanic_df['Pclass'].head(3))\n",
    "\n",
    "print('\\n여러 칼럼 데이터 추출:\\n',titanic_df[['Survived','Pclass']].head(3))"
   ]
  },
  {
   "cell_type": "code",
   "execution_count": 32,
   "id": "951e62aa",
   "metadata": {},
   "outputs": [
    {
     "data": {
      "text/html": [
       "<div>\n",
       "<style scoped>\n",
       "    .dataframe tbody tr th:only-of-type {\n",
       "        vertical-align: middle;\n",
       "    }\n",
       "\n",
       "    .dataframe tbody tr th {\n",
       "        vertical-align: top;\n",
       "    }\n",
       "\n",
       "    .dataframe thead th {\n",
       "        text-align: right;\n",
       "    }\n",
       "</style>\n",
       "<table border=\"1\" class=\"dataframe\">\n",
       "  <thead>\n",
       "    <tr style=\"text-align: right;\">\n",
       "      <th></th>\n",
       "      <th>PassengerId</th>\n",
       "      <th>Survived</th>\n",
       "      <th>Pclass</th>\n",
       "      <th>Name</th>\n",
       "      <th>Sex</th>\n",
       "      <th>Age</th>\n",
       "      <th>SibSp</th>\n",
       "      <th>Parch</th>\n",
       "      <th>Ticket</th>\n",
       "      <th>Fare</th>\n",
       "      <th>Cabin</th>\n",
       "      <th>Embarked</th>\n",
       "    </tr>\n",
       "  </thead>\n",
       "  <tbody>\n",
       "    <tr>\n",
       "      <th>0</th>\n",
       "      <td>1</td>\n",
       "      <td>0</td>\n",
       "      <td>3</td>\n",
       "      <td>Braund, Mr. Owen Harris</td>\n",
       "      <td>male</td>\n",
       "      <td>22.0</td>\n",
       "      <td>1</td>\n",
       "      <td>0</td>\n",
       "      <td>A/5 21171</td>\n",
       "      <td>7.2500</td>\n",
       "      <td>NaN</td>\n",
       "      <td>S</td>\n",
       "    </tr>\n",
       "    <tr>\n",
       "      <th>2</th>\n",
       "      <td>3</td>\n",
       "      <td>1</td>\n",
       "      <td>3</td>\n",
       "      <td>Heikkinen, Miss. Laina</td>\n",
       "      <td>female</td>\n",
       "      <td>26.0</td>\n",
       "      <td>0</td>\n",
       "      <td>0</td>\n",
       "      <td>STON/O2. 3101282</td>\n",
       "      <td>7.9250</td>\n",
       "      <td>NaN</td>\n",
       "      <td>S</td>\n",
       "    </tr>\n",
       "    <tr>\n",
       "      <th>4</th>\n",
       "      <td>5</td>\n",
       "      <td>0</td>\n",
       "      <td>3</td>\n",
       "      <td>Allen, Mr. William Henry</td>\n",
       "      <td>male</td>\n",
       "      <td>35.0</td>\n",
       "      <td>0</td>\n",
       "      <td>0</td>\n",
       "      <td>373450</td>\n",
       "      <td>8.0500</td>\n",
       "      <td>NaN</td>\n",
       "      <td>S</td>\n",
       "    </tr>\n",
       "    <tr>\n",
       "      <th>5</th>\n",
       "      <td>6</td>\n",
       "      <td>0</td>\n",
       "      <td>3</td>\n",
       "      <td>Moran, Mr. James</td>\n",
       "      <td>male</td>\n",
       "      <td>NaN</td>\n",
       "      <td>0</td>\n",
       "      <td>0</td>\n",
       "      <td>330877</td>\n",
       "      <td>8.4583</td>\n",
       "      <td>NaN</td>\n",
       "      <td>Q</td>\n",
       "    </tr>\n",
       "    <tr>\n",
       "      <th>7</th>\n",
       "      <td>8</td>\n",
       "      <td>0</td>\n",
       "      <td>3</td>\n",
       "      <td>Palsson, Master. Gosta Leonard</td>\n",
       "      <td>male</td>\n",
       "      <td>2.0</td>\n",
       "      <td>3</td>\n",
       "      <td>1</td>\n",
       "      <td>349909</td>\n",
       "      <td>21.0750</td>\n",
       "      <td>NaN</td>\n",
       "      <td>S</td>\n",
       "    </tr>\n",
       "    <tr>\n",
       "      <th>...</th>\n",
       "      <td>...</td>\n",
       "      <td>...</td>\n",
       "      <td>...</td>\n",
       "      <td>...</td>\n",
       "      <td>...</td>\n",
       "      <td>...</td>\n",
       "      <td>...</td>\n",
       "      <td>...</td>\n",
       "      <td>...</td>\n",
       "      <td>...</td>\n",
       "      <td>...</td>\n",
       "      <td>...</td>\n",
       "    </tr>\n",
       "    <tr>\n",
       "      <th>882</th>\n",
       "      <td>883</td>\n",
       "      <td>0</td>\n",
       "      <td>3</td>\n",
       "      <td>Dahlberg, Miss. Gerda Ulrika</td>\n",
       "      <td>female</td>\n",
       "      <td>22.0</td>\n",
       "      <td>0</td>\n",
       "      <td>0</td>\n",
       "      <td>7552</td>\n",
       "      <td>10.5167</td>\n",
       "      <td>NaN</td>\n",
       "      <td>S</td>\n",
       "    </tr>\n",
       "    <tr>\n",
       "      <th>884</th>\n",
       "      <td>885</td>\n",
       "      <td>0</td>\n",
       "      <td>3</td>\n",
       "      <td>Sutehall, Mr. Henry Jr</td>\n",
       "      <td>male</td>\n",
       "      <td>25.0</td>\n",
       "      <td>0</td>\n",
       "      <td>0</td>\n",
       "      <td>SOTON/OQ 392076</td>\n",
       "      <td>7.0500</td>\n",
       "      <td>NaN</td>\n",
       "      <td>S</td>\n",
       "    </tr>\n",
       "    <tr>\n",
       "      <th>885</th>\n",
       "      <td>886</td>\n",
       "      <td>0</td>\n",
       "      <td>3</td>\n",
       "      <td>Rice, Mrs. William (Margaret Norton)</td>\n",
       "      <td>female</td>\n",
       "      <td>39.0</td>\n",
       "      <td>0</td>\n",
       "      <td>5</td>\n",
       "      <td>382652</td>\n",
       "      <td>29.1250</td>\n",
       "      <td>NaN</td>\n",
       "      <td>Q</td>\n",
       "    </tr>\n",
       "    <tr>\n",
       "      <th>888</th>\n",
       "      <td>889</td>\n",
       "      <td>0</td>\n",
       "      <td>3</td>\n",
       "      <td>Johnston, Miss. Catherine Helen \"Carrie\"</td>\n",
       "      <td>female</td>\n",
       "      <td>NaN</td>\n",
       "      <td>1</td>\n",
       "      <td>2</td>\n",
       "      <td>W./C. 6607</td>\n",
       "      <td>23.4500</td>\n",
       "      <td>NaN</td>\n",
       "      <td>S</td>\n",
       "    </tr>\n",
       "    <tr>\n",
       "      <th>890</th>\n",
       "      <td>891</td>\n",
       "      <td>0</td>\n",
       "      <td>3</td>\n",
       "      <td>Dooley, Mr. Patrick</td>\n",
       "      <td>male</td>\n",
       "      <td>32.0</td>\n",
       "      <td>0</td>\n",
       "      <td>0</td>\n",
       "      <td>370376</td>\n",
       "      <td>7.7500</td>\n",
       "      <td>NaN</td>\n",
       "      <td>Q</td>\n",
       "    </tr>\n",
       "  </tbody>\n",
       "</table>\n",
       "<p>491 rows × 12 columns</p>\n",
       "</div>"
      ],
      "text/plain": [
       "     PassengerId  Survived  Pclass                                      Name  \\\n",
       "0              1         0       3                   Braund, Mr. Owen Harris   \n",
       "2              3         1       3                    Heikkinen, Miss. Laina   \n",
       "4              5         0       3                  Allen, Mr. William Henry   \n",
       "5              6         0       3                          Moran, Mr. James   \n",
       "7              8         0       3            Palsson, Master. Gosta Leonard   \n",
       "..           ...       ...     ...                                       ...   \n",
       "882          883         0       3              Dahlberg, Miss. Gerda Ulrika   \n",
       "884          885         0       3                    Sutehall, Mr. Henry Jr   \n",
       "885          886         0       3      Rice, Mrs. William (Margaret Norton)   \n",
       "888          889         0       3  Johnston, Miss. Catherine Helen \"Carrie\"   \n",
       "890          891         0       3                       Dooley, Mr. Patrick   \n",
       "\n",
       "        Sex   Age  SibSp  Parch            Ticket     Fare Cabin Embarked  \n",
       "0      male  22.0      1      0         A/5 21171   7.2500   NaN        S  \n",
       "2    female  26.0      0      0  STON/O2. 3101282   7.9250   NaN        S  \n",
       "4      male  35.0      0      0            373450   8.0500   NaN        S  \n",
       "5      male   NaN      0      0            330877   8.4583   NaN        Q  \n",
       "7      male   2.0      3      1            349909  21.0750   NaN        S  \n",
       "..      ...   ...    ...    ...               ...      ...   ...      ...  \n",
       "882  female  22.0      0      0              7552  10.5167   NaN        S  \n",
       "884    male  25.0      0      0   SOTON/OQ 392076   7.0500   NaN        S  \n",
       "885  female  39.0      0      5            382652  29.1250   NaN        Q  \n",
       "888  female   NaN      1      2        W./C. 6607  23.4500   NaN        S  \n",
       "890    male  32.0      0      0            370376   7.7500   NaN        Q  \n",
       "\n",
       "[491 rows x 12 columns]"
      ]
     },
     "execution_count": 32,
     "metadata": {},
     "output_type": "execute_result"
    }
   ],
   "source": [
    "titanic_df[ titanic_df['Pclass'] ==3]"
   ]
  },
  {
   "cell_type": "markdown",
   "id": "69bcf0b4",
   "metadata": {},
   "source": [
    "### 4.5.2 DataFrame ix[] 연산자\n",
    "\n",
    "(생략)\n",
    "\n",
    "### 4.5.3 명칭 기반 인덱싱과 위치 기반 인덱싱 구분\n",
    "\n",
    "(생략)\n",
    "\n",
    "위 두개의 단원은 생략합니다. `ix[]` 연산자는 데이터를 추출할 때 숫자를 이용한 칼럼의 위치 기반 인덱싱 구분을 지원하지만, 이로 인해 숫자가 행 인덱스와 칼럼 인덱스 중 어떤 것을 의미하는지 구분하기 어려워 코드의 가독성을 떨어뜨립니다. 이를 개선하기 위해 아래에 설명할 `iloc[]` 과 `loc[]` 연산자를 주로 사용합니다.\n",
    "\n",
    "### 4.5.4 DataFrame iloc[] 연산자\n",
    "\n",
    "`iloc[]` 는 위치 기반 인덱싱만 허용하기 때문에 행과 열 값으로 `integer` 값을 입력해 주어야 합니다."
   ]
  },
  {
   "cell_type": "code",
   "execution_count": 33,
   "id": "37ffef06",
   "metadata": {},
   "outputs": [
    {
     "data": {
      "text/plain": [
       "PassengerId    1\n",
       "Survived       0\n",
       "Pclass         3\n",
       "Name: 0, dtype: object"
      ]
     },
     "execution_count": 33,
     "metadata": {},
     "output_type": "execute_result"
    }
   ],
   "source": [
    "titanic_df.iloc[0, 0:3]"
   ]
  },
  {
   "cell_type": "markdown",
   "id": "649c1a30",
   "metadata": {},
   "source": [
    "\n",
    "위의 예시에서는 인덱스가 0 인 첫 행의 0~2번 칼럼의 값을 출력하는 것을 확인할 수 있습니다.\n",
    "\n",
    "### 4.5.4 DataFrame loc[] 연산자\n",
    "\n",
    "`loc[]` 는 명칭 기반 인덱싱만 허용하기 때문에 칼럼 값으로 칼럼의 명칭을 입력해 주어야 합니다."
   ]
  },
  {
   "cell_type": "code",
   "execution_count": 35,
   "id": "c03f3a42",
   "metadata": {},
   "outputs": [
    {
     "data": {
      "text/html": [
       "<div>\n",
       "<style scoped>\n",
       "    .dataframe tbody tr th:only-of-type {\n",
       "        vertical-align: middle;\n",
       "    }\n",
       "\n",
       "    .dataframe tbody tr th {\n",
       "        vertical-align: top;\n",
       "    }\n",
       "\n",
       "    .dataframe thead th {\n",
       "        text-align: right;\n",
       "    }\n",
       "</style>\n",
       "<table border=\"1\" class=\"dataframe\">\n",
       "  <thead>\n",
       "    <tr style=\"text-align: right;\">\n",
       "      <th></th>\n",
       "      <th>Pclass</th>\n",
       "      <th>Name</th>\n",
       "    </tr>\n",
       "  </thead>\n",
       "  <tbody>\n",
       "    <tr>\n",
       "      <th>0</th>\n",
       "      <td>3</td>\n",
       "      <td>Braund, Mr. Owen Harris</td>\n",
       "    </tr>\n",
       "    <tr>\n",
       "      <th>1</th>\n",
       "      <td>1</td>\n",
       "      <td>Cumings, Mrs. John Bradley (Florence Briggs Th...</td>\n",
       "    </tr>\n",
       "    <tr>\n",
       "      <th>2</th>\n",
       "      <td>3</td>\n",
       "      <td>Heikkinen, Miss. Laina</td>\n",
       "    </tr>\n",
       "  </tbody>\n",
       "</table>\n",
       "</div>"
      ],
      "text/plain": [
       "   Pclass                                               Name\n",
       "0       3                            Braund, Mr. Owen Harris\n",
       "1       1  Cumings, Mrs. John Bradley (Florence Briggs Th...\n",
       "2       3                             Heikkinen, Miss. Laina"
      ]
     },
     "execution_count": 35,
     "metadata": {},
     "output_type": "execute_result"
    }
   ],
   "source": [
    "titanic_df.loc[0:2, ['Pclass','Name']]"
   ]
  },
  {
   "cell_type": "markdown",
   "id": "d45d682d",
   "metadata": {},
   "source": [
    "위의 예시에서는 인덱스가 0~2인 행의 `Pclass`와 `Name` 칼럼의 값을 출력하는 것을 확인할 수 있습니다.\n",
    "\n",
    "### 4.5.5 불린 인덱싱\n",
    "\n",
    "데이터 필터링을 위해 불린 인덱싱을 사용할 수 있습니다."
   ]
  },
  {
   "cell_type": "code",
   "execution_count": 40,
   "id": "396255fd",
   "metadata": {},
   "outputs": [
    {
     "data": {
      "text/html": [
       "<div>\n",
       "<style scoped>\n",
       "    .dataframe tbody tr th:only-of-type {\n",
       "        vertical-align: middle;\n",
       "    }\n",
       "\n",
       "    .dataframe tbody tr th {\n",
       "        vertical-align: top;\n",
       "    }\n",
       "\n",
       "    .dataframe thead th {\n",
       "        text-align: right;\n",
       "    }\n",
       "</style>\n",
       "<table border=\"1\" class=\"dataframe\">\n",
       "  <thead>\n",
       "    <tr style=\"text-align: right;\">\n",
       "      <th></th>\n",
       "      <th>PassengerId</th>\n",
       "      <th>Survived</th>\n",
       "      <th>Pclass</th>\n",
       "      <th>Name</th>\n",
       "      <th>Sex</th>\n",
       "      <th>Age</th>\n",
       "      <th>SibSp</th>\n",
       "      <th>Parch</th>\n",
       "      <th>Ticket</th>\n",
       "      <th>Fare</th>\n",
       "      <th>Cabin</th>\n",
       "      <th>Embarked</th>\n",
       "    </tr>\n",
       "  </thead>\n",
       "  <tbody>\n",
       "    <tr>\n",
       "      <th>275</th>\n",
       "      <td>276</td>\n",
       "      <td>1</td>\n",
       "      <td>1</td>\n",
       "      <td>Andrews, Miss. Kornelia Theodosia</td>\n",
       "      <td>female</td>\n",
       "      <td>63.0</td>\n",
       "      <td>1</td>\n",
       "      <td>0</td>\n",
       "      <td>13502</td>\n",
       "      <td>77.9583</td>\n",
       "      <td>D7</td>\n",
       "      <td>S</td>\n",
       "    </tr>\n",
       "    <tr>\n",
       "      <th>829</th>\n",
       "      <td>830</td>\n",
       "      <td>1</td>\n",
       "      <td>1</td>\n",
       "      <td>Stone, Mrs. George Nelson (Martha Evelyn)</td>\n",
       "      <td>female</td>\n",
       "      <td>62.0</td>\n",
       "      <td>0</td>\n",
       "      <td>0</td>\n",
       "      <td>113572</td>\n",
       "      <td>80.0000</td>\n",
       "      <td>B28</td>\n",
       "      <td>NaN</td>\n",
       "    </tr>\n",
       "  </tbody>\n",
       "</table>\n",
       "</div>"
      ],
      "text/plain": [
       "     PassengerId  Survived  Pclass                                       Name  \\\n",
       "275          276         1       1          Andrews, Miss. Kornelia Theodosia   \n",
       "829          830         1       1  Stone, Mrs. George Nelson (Martha Evelyn)   \n",
       "\n",
       "        Sex   Age  SibSp  Parch  Ticket     Fare Cabin Embarked  \n",
       "275  female  63.0      1      0   13502  77.9583    D7        S  \n",
       "829  female  62.0      0      0  113572  80.0000   B28      NaN  "
      ]
     },
     "execution_count": 40,
     "metadata": {},
     "output_type": "execute_result"
    }
   ],
   "source": [
    "titanic_df[(titanic_df['Age'] > 60) & (titanic_df['Pclass'] == 1) & (titanic_df['Sex'] =='female')]"
   ]
  },
  {
   "cell_type": "markdown",
   "id": "6c340c36",
   "metadata": {},
   "source": [
    "불린 인덱싱을 통해 나이가 60 이상이고, `Pclass` 가 1이며, 성별이 여성인 조건을 만족하는 행 두 개만 필터링하는 것을 확인할 수 있습니다."
   ]
  },
  {
   "cell_type": "markdown",
   "id": "374d874d",
   "metadata": {},
   "source": [
    "## 4.6 정렬, Aggregation, GroupBy 적용\n",
    "\n",
    "### 4.6.1 DataFrame, Series의 정렬 - sort_values()\n",
    "\n",
    "`DataFrame` 과 `Series`를 정렬하기 위해서는 `sort_values()` 매서드를 사용합니다. `sort_values()` 매서드는 파라미터로 `by`,`ascending`,`inplace`를 받습니다. `by`로 칼럼을 입력하면 해당 칼럼으로 정렬을 수행합니다. `ascending` 이 true 라면 오름차순, false라면 내림차순으로 정렬을 수행하며 기본값은 true입니다. `inplace`가 true라면 원본 데이터에 정렬을 적용하며, false라면 정렬이 적용된 데이터셋을 새로 생성하여 리턴하며 기본값은 false입니다."
   ]
  },
  {
   "cell_type": "code",
   "execution_count": 41,
   "id": "725c9917",
   "metadata": {},
   "outputs": [
    {
     "data": {
      "text/html": [
       "<div>\n",
       "<style scoped>\n",
       "    .dataframe tbody tr th:only-of-type {\n",
       "        vertical-align: middle;\n",
       "    }\n",
       "\n",
       "    .dataframe tbody tr th {\n",
       "        vertical-align: top;\n",
       "    }\n",
       "\n",
       "    .dataframe thead th {\n",
       "        text-align: right;\n",
       "    }\n",
       "</style>\n",
       "<table border=\"1\" class=\"dataframe\">\n",
       "  <thead>\n",
       "    <tr style=\"text-align: right;\">\n",
       "      <th></th>\n",
       "      <th>PassengerId</th>\n",
       "      <th>Survived</th>\n",
       "      <th>Pclass</th>\n",
       "      <th>Name</th>\n",
       "      <th>Sex</th>\n",
       "      <th>Age</th>\n",
       "      <th>SibSp</th>\n",
       "      <th>Parch</th>\n",
       "      <th>Ticket</th>\n",
       "      <th>Fare</th>\n",
       "      <th>Cabin</th>\n",
       "      <th>Embarked</th>\n",
       "    </tr>\n",
       "  </thead>\n",
       "  <tbody>\n",
       "    <tr>\n",
       "      <th>868</th>\n",
       "      <td>869</td>\n",
       "      <td>0</td>\n",
       "      <td>3</td>\n",
       "      <td>van Melkebeke, Mr. Philemon</td>\n",
       "      <td>male</td>\n",
       "      <td>NaN</td>\n",
       "      <td>0</td>\n",
       "      <td>0</td>\n",
       "      <td>345777</td>\n",
       "      <td>9.5</td>\n",
       "      <td>NaN</td>\n",
       "      <td>S</td>\n",
       "    </tr>\n",
       "    <tr>\n",
       "      <th>153</th>\n",
       "      <td>154</td>\n",
       "      <td>0</td>\n",
       "      <td>3</td>\n",
       "      <td>van Billiard, Mr. Austin Blyler</td>\n",
       "      <td>male</td>\n",
       "      <td>40.5</td>\n",
       "      <td>0</td>\n",
       "      <td>2</td>\n",
       "      <td>A/5. 851</td>\n",
       "      <td>14.5</td>\n",
       "      <td>NaN</td>\n",
       "      <td>S</td>\n",
       "    </tr>\n",
       "    <tr>\n",
       "      <th>282</th>\n",
       "      <td>283</td>\n",
       "      <td>0</td>\n",
       "      <td>3</td>\n",
       "      <td>de Pelsmaeker, Mr. Alfons</td>\n",
       "      <td>male</td>\n",
       "      <td>16.0</td>\n",
       "      <td>0</td>\n",
       "      <td>0</td>\n",
       "      <td>345778</td>\n",
       "      <td>9.5</td>\n",
       "      <td>NaN</td>\n",
       "      <td>S</td>\n",
       "    </tr>\n",
       "  </tbody>\n",
       "</table>\n",
       "</div>"
      ],
      "text/plain": [
       "     PassengerId  Survived  Pclass                             Name   Sex  \\\n",
       "868          869         0       3      van Melkebeke, Mr. Philemon  male   \n",
       "153          154         0       3  van Billiard, Mr. Austin Blyler  male   \n",
       "282          283         0       3        de Pelsmaeker, Mr. Alfons  male   \n",
       "\n",
       "      Age  SibSp  Parch    Ticket  Fare Cabin Embarked  \n",
       "868   NaN      0      0    345777   9.5   NaN        S  \n",
       "153  40.5      0      2  A/5. 851  14.5   NaN        S  \n",
       "282  16.0      0      0    345778   9.5   NaN        S  "
      ]
     },
     "execution_count": 41,
     "metadata": {},
     "output_type": "execute_result"
    }
   ],
   "source": [
    "titanic_sorted = titanic_df.sort_values(by=['Pclass', 'Name'], ascending=False)\n",
    "titanic_sorted.head(3)"
   ]
  },
  {
   "cell_type": "markdown",
   "id": "e1a0661b",
   "metadata": {},
   "source": [
    "`Pclass` 와 `Name` 을 기준으로 정렬된 결과를 확인할 수 있습니다.\n",
    "\n",
    "### 4.6.2 Aggregation 함수 적용\n",
    "`min()`, `max()`, `sum()`, `count()`와 같은 aggregation 함수도 쉽게 적용할 수 있습니다. 이때 `DataFrame`에 함수를 적용하면 모든 칼럼의 결과를 반환하고, 특정 칼럼의 결과만 얻기 위해서는 특정 칼럼만 추출해 함수를 적용하면 됩니다."
   ]
  },
  {
   "cell_type": "code",
   "execution_count": 42,
   "id": "bf19fd67",
   "metadata": {},
   "outputs": [
    {
     "data": {
      "text/plain": [
       "Age     29.699118\n",
       "Fare    32.204208\n",
       "dtype: float64"
      ]
     },
     "execution_count": 42,
     "metadata": {},
     "output_type": "execute_result"
    }
   ],
   "source": [
    "titanic_df[['Age', 'Fare']].mean()"
   ]
  },
  {
   "cell_type": "markdown",
   "id": "115b0557",
   "metadata": {},
   "source": [
    "\n",
    "### 4.6.3 groupby() 적용\n",
    "\n",
    "특정 칼럼의 값을 기준으로 다른 데이터들을 분석하고 싶다면 `groupby()`를 사용하면 됩니다. `DataFrame` 에 `groupby(by = '칼럼명')` 을 적용시켬 원하는 칼럼의 값을 기준으로 그룹이 나누어진 새로운 `DataFrame Groupby` 객체가 반환됩니다. 새로운 객체에 Aggergation 함수들을 적용시켜 데이터를 분석할 수 있습니다. 여러 개의 Aggergation 함수를 적용한 결과를 확인하고 싶을 때에는 `.agg()` 매서드를 적용하여  인자로 사용할 함수들의 이름을 제공하면 됩니다."
   ]
  },
  {
   "cell_type": "code",
   "execution_count": 47,
   "id": "9b53fe47",
   "metadata": {},
   "outputs": [
    {
     "data": {
      "text/html": [
       "<div>\n",
       "<style scoped>\n",
       "    .dataframe tbody tr th:only-of-type {\n",
       "        vertical-align: middle;\n",
       "    }\n",
       "\n",
       "    .dataframe tbody tr th {\n",
       "        vertical-align: top;\n",
       "    }\n",
       "\n",
       "    .dataframe thead th {\n",
       "        text-align: right;\n",
       "    }\n",
       "</style>\n",
       "<table border=\"1\" class=\"dataframe\">\n",
       "  <thead>\n",
       "    <tr style=\"text-align: right;\">\n",
       "      <th></th>\n",
       "      <th>min</th>\n",
       "      <th>max</th>\n",
       "    </tr>\n",
       "    <tr>\n",
       "      <th>Pclass</th>\n",
       "      <th></th>\n",
       "      <th></th>\n",
       "    </tr>\n",
       "  </thead>\n",
       "  <tbody>\n",
       "    <tr>\n",
       "      <th>1</th>\n",
       "      <td>0.92</td>\n",
       "      <td>80.0</td>\n",
       "    </tr>\n",
       "    <tr>\n",
       "      <th>2</th>\n",
       "      <td>0.67</td>\n",
       "      <td>70.0</td>\n",
       "    </tr>\n",
       "    <tr>\n",
       "      <th>3</th>\n",
       "      <td>0.42</td>\n",
       "      <td>74.0</td>\n",
       "    </tr>\n",
       "  </tbody>\n",
       "</table>\n",
       "</div>"
      ],
      "text/plain": [
       "         min   max\n",
       "Pclass            \n",
       "1       0.92  80.0\n",
       "2       0.67  70.0\n",
       "3       0.42  74.0"
      ]
     },
     "execution_count": 47,
     "metadata": {},
     "output_type": "execute_result"
    }
   ],
   "source": [
    "titanic_groupby = titanic_df.groupby(by='Pclass')\n",
    "titanic_groupby['Age'].agg([min, max])\n"
   ]
  },
  {
   "cell_type": "markdown",
   "id": "1d532d88",
   "metadata": {},
   "source": [
    "`Pclass` 값에 따라 `Age` 값의 최솟값과 최댓값을 확인할 수 있습니다.\n",
    "\n",
    "만약 여러 칼럼에 대하야 각 칼럼마다 다른 aggregation 함수를 적용하고 싶다면 각각의 칼럼에 사용할 함수를 딕셔너리로 만든 다음에 `agg`의 함수 인자로 전달하면 됩니다."
   ]
  },
  {
   "cell_type": "code",
   "execution_count": 48,
   "id": "822c7ce9",
   "metadata": {},
   "outputs": [
    {
     "data": {
      "text/html": [
       "<div>\n",
       "<style scoped>\n",
       "    .dataframe tbody tr th:only-of-type {\n",
       "        vertical-align: middle;\n",
       "    }\n",
       "\n",
       "    .dataframe tbody tr th {\n",
       "        vertical-align: top;\n",
       "    }\n",
       "\n",
       "    .dataframe thead th {\n",
       "        text-align: right;\n",
       "    }\n",
       "</style>\n",
       "<table border=\"1\" class=\"dataframe\">\n",
       "  <thead>\n",
       "    <tr style=\"text-align: right;\">\n",
       "      <th></th>\n",
       "      <th>Age</th>\n",
       "      <th>SibSp</th>\n",
       "      <th>Fare</th>\n",
       "    </tr>\n",
       "    <tr>\n",
       "      <th>Pclass</th>\n",
       "      <th></th>\n",
       "      <th></th>\n",
       "      <th></th>\n",
       "    </tr>\n",
       "  </thead>\n",
       "  <tbody>\n",
       "    <tr>\n",
       "      <th>1</th>\n",
       "      <td>80.0</td>\n",
       "      <td>90</td>\n",
       "      <td>84.154687</td>\n",
       "    </tr>\n",
       "    <tr>\n",
       "      <th>2</th>\n",
       "      <td>70.0</td>\n",
       "      <td>74</td>\n",
       "      <td>20.662183</td>\n",
       "    </tr>\n",
       "    <tr>\n",
       "      <th>3</th>\n",
       "      <td>74.0</td>\n",
       "      <td>302</td>\n",
       "      <td>13.675550</td>\n",
       "    </tr>\n",
       "  </tbody>\n",
       "</table>\n",
       "</div>"
      ],
      "text/plain": [
       "         Age  SibSp       Fare\n",
       "Pclass                        \n",
       "1       80.0     90  84.154687\n",
       "2       70.0     74  20.662183\n",
       "3       74.0    302  13.675550"
      ]
     },
     "execution_count": 48,
     "metadata": {},
     "output_type": "execute_result"
    }
   ],
   "source": [
    "titanic_groupby = titanic_df.groupby(by='Pclass')\n",
    "agg_format = {'Age' : 'max', 'SibSp':'sum', 'Fare':'mean'}\n",
    "titanic_groupby.agg(agg_format)"
   ]
  },
  {
   "cell_type": "markdown",
   "id": "f035972f",
   "metadata": {},
   "source": [
    "`Pclass` 값에 따라 `Age`의 최댓값, `SibSp`의 합, `Fare`의 평균값을 확인할 수 있습니다.\n",
    "\n",
    "## 4.7 결손 데이터 처리하기\n",
    "\n",
    "판다스는 머신 러닝 알고리즘에서 처리되지 않는 NaN 값의 결손 데이터를 다른 값으로 대체하기 위해 결손 여부를 확인하는 `isna()`와 결손값을 대체하는 `fillna()`을 제공합니다.\n",
    "\n",
    "### 4.7.1 isna()로 결손 데이터 여부 확인\n",
    "`DataFrame`에 `isna()`를 수행하면 모든 칼럼의 값이 NaN인지 아닌지를 True 또는 False의 형태로 제공합니다."
   ]
  },
  {
   "cell_type": "code",
   "execution_count": 49,
   "id": "47342e04",
   "metadata": {},
   "outputs": [
    {
     "data": {
      "text/html": [
       "<div>\n",
       "<style scoped>\n",
       "    .dataframe tbody tr th:only-of-type {\n",
       "        vertical-align: middle;\n",
       "    }\n",
       "\n",
       "    .dataframe tbody tr th {\n",
       "        vertical-align: top;\n",
       "    }\n",
       "\n",
       "    .dataframe thead th {\n",
       "        text-align: right;\n",
       "    }\n",
       "</style>\n",
       "<table border=\"1\" class=\"dataframe\">\n",
       "  <thead>\n",
       "    <tr style=\"text-align: right;\">\n",
       "      <th></th>\n",
       "      <th>PassengerId</th>\n",
       "      <th>Survived</th>\n",
       "      <th>Pclass</th>\n",
       "      <th>Name</th>\n",
       "      <th>Sex</th>\n",
       "      <th>Age</th>\n",
       "      <th>SibSp</th>\n",
       "      <th>Parch</th>\n",
       "      <th>Ticket</th>\n",
       "      <th>Fare</th>\n",
       "      <th>Cabin</th>\n",
       "      <th>Embarked</th>\n",
       "    </tr>\n",
       "  </thead>\n",
       "  <tbody>\n",
       "    <tr>\n",
       "      <th>0</th>\n",
       "      <td>False</td>\n",
       "      <td>False</td>\n",
       "      <td>False</td>\n",
       "      <td>False</td>\n",
       "      <td>False</td>\n",
       "      <td>False</td>\n",
       "      <td>False</td>\n",
       "      <td>False</td>\n",
       "      <td>False</td>\n",
       "      <td>False</td>\n",
       "      <td>True</td>\n",
       "      <td>False</td>\n",
       "    </tr>\n",
       "    <tr>\n",
       "      <th>1</th>\n",
       "      <td>False</td>\n",
       "      <td>False</td>\n",
       "      <td>False</td>\n",
       "      <td>False</td>\n",
       "      <td>False</td>\n",
       "      <td>False</td>\n",
       "      <td>False</td>\n",
       "      <td>False</td>\n",
       "      <td>False</td>\n",
       "      <td>False</td>\n",
       "      <td>False</td>\n",
       "      <td>False</td>\n",
       "    </tr>\n",
       "    <tr>\n",
       "      <th>2</th>\n",
       "      <td>False</td>\n",
       "      <td>False</td>\n",
       "      <td>False</td>\n",
       "      <td>False</td>\n",
       "      <td>False</td>\n",
       "      <td>False</td>\n",
       "      <td>False</td>\n",
       "      <td>False</td>\n",
       "      <td>False</td>\n",
       "      <td>False</td>\n",
       "      <td>True</td>\n",
       "      <td>False</td>\n",
       "    </tr>\n",
       "  </tbody>\n",
       "</table>\n",
       "</div>"
      ],
      "text/plain": [
       "   PassengerId  Survived  Pclass   Name    Sex    Age  SibSp  Parch  Ticket  \\\n",
       "0        False     False   False  False  False  False  False  False   False   \n",
       "1        False     False   False  False  False  False  False  False   False   \n",
       "2        False     False   False  False  False  False  False  False   False   \n",
       "\n",
       "    Fare  Cabin  Embarked  \n",
       "0  False   True     False  \n",
       "1  False  False     False  \n",
       "2  False   True     False  "
      ]
     },
     "execution_count": 49,
     "metadata": {},
     "output_type": "execute_result"
    }
   ],
   "source": [
    "titanic_df.isna().head(3)"
   ]
  },
  {
   "cell_type": "code",
   "execution_count": 51,
   "id": "af7a61d7",
   "metadata": {},
   "outputs": [
    {
     "data": {
      "text/plain": [
       "PassengerId    0\n",
       "Survived       0\n",
       "Pclass         0\n",
       "Name           0\n",
       "Sex            0\n",
       "Age            0\n",
       "SibSp          0\n",
       "Parch          0\n",
       "Ticket         0\n",
       "Fare           0\n",
       "Cabin          0\n",
       "Embarked       0\n",
       "dtype: int64"
      ]
     },
     "execution_count": 51,
     "metadata": {},
     "output_type": "execute_result"
    }
   ],
   "source": [
    "titanic_df['Cabin'] = titanic_df['Cabin'].fillna('C000')\n",
    "titanic_df['Age'] = titanic_df['Age'].fillna(titanic_df['Age'].mean())\n",
    "titanic_df['Embarked'] = titanic_df['Embarked'].fillna('S')\n",
    "\n",
    "titanic_df.isna().sum()"
   ]
  },
  {
   "cell_type": "markdown",
   "id": "2acd507a",
   "metadata": {},
   "source": [
    "\n",
    "결측값이 존재하는 칼럼을 각각 `fillna()`를 통해 결측치를 대체한 다음, `isna()`를 활용하여 더 이상 결측치가 없다는 것을 확인할 수 있습니다.\n",
    "\n",
    "### 4.8 apply lambda 식으로 데이터 가공\n",
    "\n",
    "복잡한 데이터 가공의 경우 파이썬의 lambda 식을 활용할 수 있습니다.\n",
    "lambda 식은 다음과 같이 구성됩니다.\n",
    "\n",
    "```python\n",
    "lamda (입력 인자) : (입력 인자를 기반으로 한 계산식)\n",
    "```\n"
   ]
  },
  {
   "cell_type": "markdown",
   "id": "1f1e0cae",
   "metadata": {},
   "source": [
    "다음 예시를 한번 살펴봅시다."
   ]
  },
  {
   "cell_type": "code",
   "execution_count": 54,
   "id": "b196a182",
   "metadata": {},
   "outputs": [
    {
     "data": {
      "text/html": [
       "<div>\n",
       "<style scoped>\n",
       "    .dataframe tbody tr th:only-of-type {\n",
       "        vertical-align: middle;\n",
       "    }\n",
       "\n",
       "    .dataframe tbody tr th {\n",
       "        vertical-align: top;\n",
       "    }\n",
       "\n",
       "    .dataframe thead th {\n",
       "        text-align: right;\n",
       "    }\n",
       "</style>\n",
       "<table border=\"1\" class=\"dataframe\">\n",
       "  <thead>\n",
       "    <tr style=\"text-align: right;\">\n",
       "      <th></th>\n",
       "      <th>Name</th>\n",
       "      <th>Name_len</th>\n",
       "    </tr>\n",
       "  </thead>\n",
       "  <tbody>\n",
       "    <tr>\n",
       "      <th>0</th>\n",
       "      <td>Braund, Mr. Owen Harris</td>\n",
       "      <td>23</td>\n",
       "    </tr>\n",
       "    <tr>\n",
       "      <th>1</th>\n",
       "      <td>Cumings, Mrs. John Bradley (Florence Briggs Th...</td>\n",
       "      <td>51</td>\n",
       "    </tr>\n",
       "    <tr>\n",
       "      <th>2</th>\n",
       "      <td>Heikkinen, Miss. Laina</td>\n",
       "      <td>22</td>\n",
       "    </tr>\n",
       "  </tbody>\n",
       "</table>\n",
       "</div>"
      ],
      "text/plain": [
       "                                                Name  Name_len\n",
       "0                            Braund, Mr. Owen Harris        23\n",
       "1  Cumings, Mrs. John Bradley (Florence Briggs Th...        51\n",
       "2                             Heikkinen, Miss. Laina        22"
      ]
     },
     "execution_count": 54,
     "metadata": {},
     "output_type": "execute_result"
    }
   ],
   "source": [
    "titanic_df['Name_len'] = titanic_df['Name'].apply(lambda x : len(x))\n",
    "\n",
    "titanic_df[['Name', 'Name_len']].head(3)"
   ]
  },
  {
   "cell_type": "markdown",
   "id": "ee037e24",
   "metadata": {},
   "source": [
    "다음과 같이 람다 식을 활용하여 이름의 길이를 나타내는 새로운 칼럼을 만들어 줄 수 있습니다.\n",
    "\n",
    "람다 식을 사용할 경우 주의하여야 할 점은 `if else` 문을 사용할 때에는, `if` 문의 리턴 값이 `if` 보다 먼저 나와야 하며 `elif` 는 사용이 불가능하다는 점입니다.\n",
    "\n",
    "다음 예시를 살펴봅시다."
   ]
  },
  {
   "cell_type": "code",
   "execution_count": 56,
   "id": "68eb6595",
   "metadata": {},
   "outputs": [
    {
     "data": {
      "text/plain": [
       "Adult      786\n",
       "chlid       83\n",
       "Elderly     22\n",
       "Name: Age_cat, dtype: int64"
      ]
     },
     "execution_count": 56,
     "metadata": {},
     "output_type": "execute_result"
    }
   ],
   "source": [
    "titanic_df['Age_cat'] = titanic_df['Age'].apply(lambda x: 'chlid' if x<=15 else ('Adult' if x <= 60 else 'Elderly'))\n",
    "\n",
    "titanic_df['Age_cat'].value_counts()"
   ]
  },
  {
   "cell_type": "markdown",
   "id": "48e88f37",
   "metadata": {},
   "source": [
    "\n",
    "`Age` 칼럼의 값을 기준으로 `Age_cat`이라는 새로운 칼럼을 만들 때 `lambda` 식을 사용하는 예시입니다. 이때 리턴값 `child` 가 if 문 앞에 온다는 점과, `elif` 를 사용할 수 없기 때문에 `else` 뒤에 괄호를 이용해 `if else` 문을 한번 더 사용한다는 점을 확인할 수 있습니다.\n",
    "\n",
    "따라서 연산 내용이 길어질 경우 해당 부분을 함수로 따로 분리하여 작성한 다음 람다 식에 함수를 적용하는 것이 가독성이 더 좋을 수도 있습니다.\n"
   ]
  }
 ],
 "metadata": {
  "kernelspec": {
   "display_name": "Python 3 (ipykernel)",
   "language": "python",
   "name": "python3"
  },
  "language_info": {
   "codemirror_mode": {
    "name": "ipython",
    "version": 3
   },
   "file_extension": ".py",
   "mimetype": "text/x-python",
   "name": "python",
   "nbconvert_exporter": "python",
   "pygments_lexer": "ipython3",
   "version": "3.8.12"
  }
 },
 "nbformat": 4,
 "nbformat_minor": 5
}
